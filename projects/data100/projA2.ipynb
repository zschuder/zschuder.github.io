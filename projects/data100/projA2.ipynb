{
 "cells": [
  {
   "cell_type": "code",
   "execution_count": 1,
   "metadata": {
    "deletable": false,
    "editable": false
   },
   "outputs": [],
   "source": [
    "# Initialize Otter\n",
    "import otter\n",
    "grader = otter.Notebook(\"projA2.ipynb\")"
   ]
  },
  {
   "cell_type": "markdown",
   "metadata": {
    "nbgrader": {
     "grade": false,
     "grade_id": "cell-e0f9b2de18190d9d",
     "locked": true,
     "schema_version": 1,
     "solution": false
    }
   },
   "source": [
    "# 🏘️ Project A2: Predicting Housing Prices in Cook County\n",
    "\n",
    "## Due Date: Thursday, April 3rd 11:59 PM PDT\n",
    "You must submit this assignment to Gradescope by the on-time deadline, Thursday, April 3rd, 11:59 PM. Please read the syllabus for the Slip Day policy. No late submissions beyond what is outlined in the Slip Day policy will be accepted. We strongly encourage you to plan to submit your work to Gradescope several hours before the stated deadline. This way, you will have ample time to reach out to staff for support if you encounter difficulties with submission. While course staff is happy to help guide you with submitting your assignment ahead of the deadline, we will not respond to last-minute requests for assistance (TAs need to sleep, after all!).\n",
    "\n",
    "Please read the instructions carefully when you are submitting your work to Gradescope.\n",
    "\n",
    "\n",
    "### Collaboration Policy\n",
    "\n",
    "Data science is a collaborative activity. While you may talk with others about the project, we ask that you **write your solutions individually**. If you discuss the assignments with others, please **include their names** below."
   ]
  },
  {
   "cell_type": "markdown",
   "metadata": {},
   "source": [
    "**Collaborators:** *list names here*"
   ]
  },
  {
   "cell_type": "markdown",
   "metadata": {},
   "source": [
    "\n",
    "\n",
    "<hr style=\"border: 1px solid #fdb515;\" />\n",
    "<hr style=\"border: 5px solid #003262;\" />\n",
    "<br/><br/>"
   ]
  },
  {
   "cell_type": "markdown",
   "metadata": {},
   "source": [
    "<br/><br/>\n",
    "<hr style=\"border: 5px solid #003262;\" />\n",
    "<hr style=\"border: 1px solid #fdb515;\" />\n",
    "\n",
    "## 📝 Mid-Semester Survey\n",
    "\n",
    "Please fill out the anonymous mid-semester survey [here](https://docs.google.com/forms/d/e/1FAIpQLSev15H4Wn8tWnII5Xues4E21Y2eMlVF8sIq_3ywwFdECYlq9w/viewform). We appreciate your feedback! \n",
    "\n",
    "At the end of the survey, you'll receive a password. Assign `qsurvey` to the password to receive credit for completing the survey.\n",
    "\n",
    "Note: The public test only checks if you enter the password in the correct format; it does not check if the password is correct."
   ]
  },
  {
   "cell_type": "code",
   "execution_count": 2,
   "metadata": {
    "tags": [
     "otter_answer_cell"
    ]
   },
   "outputs": [],
   "source": [
    "qsurvey = \"GoldenBears\""
   ]
  },
  {
   "cell_type": "code",
   "execution_count": 3,
   "metadata": {
    "deletable": false,
    "editable": false
   },
   "outputs": [
    {
     "data": {
      "text/html": [
       "<p><strong><pre style='display: inline;'>qsurvey</pre></strong> passed! 🎉</p>"
      ],
      "text/plain": [
       "qsurvey results: All test cases passed!"
      ]
     },
     "execution_count": 3,
     "metadata": {},
     "output_type": "execute_result"
    }
   ],
   "source": [
    "grader.check(\"qsurvey\")"
   ]
  },
  {
   "cell_type": "markdown",
   "metadata": {},
   "source": [
    "## Introduction\n",
    "\n",
    "In Project A1, you performed some basic Exploratory Data Analysis (EDA), laying out the thought process that leads to certain modeling decisions. Then, you added a few new features to the dataset and cleaned the data in the process.\n",
    "\n",
    "In this project, we will specify and fit a linear model to a few features of the housing data to predict house prices. Then, we will analyze the error of the model and brainstorm ways to improve the model's performance. Finally, we'll delve deeper into the implications of predictive modeling within the Cook County Assessor's Office (CCAO) case study. This is especially relevant because statistical modeling is how the CCAO valuates properties. \n",
    "\n",
    "Given the history of racial discrimination in housing policy and property taxation in Cook County, consider the impacts of your modeling results as you work through this project, and think about what fairness might mean to property owners in Cook County.\n",
    "\n",
    "After this part of the project, you should be comfortable with:\n",
    "- Implementing a data processing pipeline using `pandas`.\n",
    "- Using `scikit-learn` to build and fit linear models.\n",
    "\n",
    "## Score Breakdown\n",
    "\n",
    "Question | Manual | Points\n",
    "----|----|----\n",
    "survey| No | 1\n",
    "1a | Yes | 1\n",
    "1b | Yes | 1\n",
    "1c | No | 1\n",
    "1d | Yes | 1\n",
    "1e | Yes | 1\n",
    "2 | No | 2\n",
    "3a | No | 2\n",
    "3b | No | 3\n",
    "3c | No | 2\n",
    "4a | Yes | 2\n",
    "4b | No | 1\n",
    "4ci | No | 1\n",
    "4cii | No | 1\n",
    "5a | No | 0\n",
    "5b | No | 0\n",
    "5c | No | 0\n",
    "5d | No | 3\n",
    "5e | No | 0\n",
    "5f | No | 0\n",
    "5g | No | 0\n",
    "6a | No | 1\n",
    "6b | No | 2\n",
    "6c | Yes | 2\n",
    "7a | Yes | 1\n",
    "7b | Yes | 2\n",
    "Test Prediction | No | 3\n",
    "Total | 8 | 34"
   ]
  },
  {
   "cell_type": "markdown",
   "metadata": {},
   "source": [
    "## Before You Start\n",
    "\n",
    "For each question in the assignment, please write down your answer in the answer cell(s) right below the question. \n",
    "\n",
    "We understand that it is helpful to have extra cells breaking down the process towards reaching your final answer. If you happen to create new cells below your answer to run code, **NEVER** add cells between a question cell and the answer cell below it. It will cause errors when we run the autograder, and it will sometimes cause a failure to generate the PDF file.\n",
    "\n",
    "**Important note: The local autograder tests will not be comprehensive. You can pass the automated tests in your notebook but still fail tests in the autograder.** Please be sure to check your results carefully.\n",
    "\n",
    "### Debugging Guide\n",
    "If you run into any technical issues, we highly recommend checking out the [Data 100 Debugging Guide](https://ds100.org/debugging-guide/). In this guide, you can find general questions about Jupyter notebooks / Datahub, Gradescope, common `pandas` errors, RegEx, visualizations, and Proj. A1 and A2 common questions."
   ]
  },
  {
   "cell_type": "code",
   "execution_count": 4,
   "metadata": {
    "nbgrader": {
     "grade": false,
     "grade_id": "cell-62cfd21463535cac",
     "locked": true,
     "schema_version": 1,
     "solution": false
    }
   },
   "outputs": [],
   "source": [
    "import numpy as np\n",
    "\n",
    "import pandas as pd\n",
    "from pandas.api.types import CategoricalDtype\n",
    "\n",
    "%matplotlib inline\n",
    "import matplotlib.pyplot as plt\n",
    "import seaborn as sns\n",
    "from sklearn import linear_model as lm\n",
    "\n",
    "import warnings\n",
    "warnings.filterwarnings(\"ignore\")\n",
    "\n",
    "import zipfile\n",
    "import os\n",
    "\n",
    "from ds100_utils import *\n",
    "from feature_func import *\n",
    "\n",
    "# Plot settings\n",
    "plt.rcParams['figure.figsize'] = (12, 9)\n",
    "plt.rcParams['font.size'] = 12"
   ]
  },
  {
   "cell_type": "markdown",
   "metadata": {},
   "source": [
    "Let's load the training, validation, and test data."
   ]
  },
  {
   "cell_type": "code",
   "execution_count": 5,
   "metadata": {},
   "outputs": [],
   "source": [
    "with zipfile.ZipFile('cook_county_data.zip') as item:\n",
    "    item.extractall()"
   ]
  },
  {
   "cell_type": "markdown",
   "metadata": {},
   "source": [
    "The dataset is split into a training set, a validation set, and a test set. In this project, you will train and validate a model using the training and validation sets, and then use a model trained on the combined training and validation sets to predict the `Sale Price`s of the test set. \n",
    "\n",
    "- Importantly, the test set we provide to you does not contain the values of our target variable, `Sale Price`. You can only use this test set to generate predictions.\n",
    "\n",
    "In the cell below, we load the training and validation sets into the `DataFrame` `training_val_data` and the test set into the `DataFrame` `test_data`."
   ]
  },
  {
   "cell_type": "code",
   "execution_count": 6,
   "metadata": {
    "nbgrader": {
     "grade": false,
     "grade_id": "cell-e8fea30adc9d489b",
     "locked": true,
     "schema_version": 1,
     "solution": false
    }
   },
   "outputs": [],
   "source": [
    "training_val_data = pd.read_csv(\"cook_county_train_val.csv\", index_col='Unnamed: 0')\n",
    "test_data = pd.read_csv(\"cook_county_contest_test.csv\", index_col='Unnamed: 0')"
   ]
  },
  {
   "cell_type": "markdown",
   "metadata": {
    "nbgrader": {
     "grade": false,
     "grade_id": "cell-9d6d509b6e854e10",
     "locked": true,
     "schema_version": 1,
     "solution": false
    }
   },
   "source": [
    "As a good sanity check, we should at least verify that the shape of the data matches the description."
   ]
  },
  {
   "cell_type": "code",
   "execution_count": 7,
   "metadata": {
    "nbgrader": {
     "grade": false,
     "grade_id": "cell-c841a2de55691502",
     "locked": true,
     "schema_version": 1,
     "solution": false
    }
   },
   "outputs": [],
   "source": [
    "# 204792 observations and 62 features in training data\n",
    "assert training_val_data.shape == (204792, 62)\n",
    "\n",
    "# 55311 observations and 61 features in test data\n",
    "assert test_data.shape == (55311, 61)\n",
    "\n",
    "# Sale Price is provided in the training/validation data\n",
    "assert 'Sale Price' in training_val_data.columns.values\n",
    "\n",
    "# Sale Price is hidden in the test data\n",
    "assert 'Sale Price' not in test_data.columns.values"
   ]
  },
  {
   "cell_type": "markdown",
   "metadata": {
    "nbgrader": {
     "grade": false,
     "grade_id": "cell-ce9acc2f62c96e59",
     "locked": true,
     "schema_version": 1,
     "solution": false
    }
   },
   "source": [
    "Next, we print the columns in the dataset. \n",
    "\n",
    "> Remember, a more detailed description of each variable is included in `codebook.txt`, which is in the same directory as this notebook. "
   ]
  },
  {
   "cell_type": "code",
   "execution_count": 8,
   "metadata": {
    "nbgrader": {
     "grade": false,
     "grade_id": "cell-4e60a7a0cda5eecf",
     "locked": true,
     "schema_version": 1,
     "solution": false
    }
   },
   "outputs": [
    {
     "data": {
      "text/plain": [
       "array(['PIN', 'Property Class', 'Neighborhood Code', 'Land Square Feet',\n",
       "       'Town Code', 'Apartments', 'Wall Material', 'Roof Material',\n",
       "       'Basement', 'Basement Finish', 'Central Heating', 'Other Heating',\n",
       "       'Central Air', 'Fireplaces', 'Attic Type', 'Attic Finish',\n",
       "       'Design Plan', 'Cathedral Ceiling', 'Construction Quality',\n",
       "       'Site Desirability', 'Garage 1 Size', 'Garage 1 Material',\n",
       "       'Garage 1 Attachment', 'Garage 1 Area', 'Garage 2 Size',\n",
       "       'Garage 2 Material', 'Garage 2 Attachment', 'Garage 2 Area',\n",
       "       'Porch', 'Other Improvements', 'Building Square Feet',\n",
       "       'Repair Condition', 'Multi Code', 'Number of Commercial Units',\n",
       "       'Estimate (Land)', 'Estimate (Building)', 'Deed No.', 'Sale Price',\n",
       "       'Longitude', 'Latitude', 'Census Tract',\n",
       "       'Multi Property Indicator', 'Modeling Group', 'Age', 'Use',\n",
       "       \"O'Hare Noise\", 'Floodplain', 'Road Proximity', 'Sale Year',\n",
       "       'Sale Quarter', 'Sale Half-Year', 'Sale Quarter of Year',\n",
       "       'Sale Month of Year', 'Sale Half of Year', 'Most Recent Sale',\n",
       "       'Age Decade', 'Pure Market Filter', 'Garage Indicator',\n",
       "       'Neigborhood Code (mapping)', 'Town and Neighborhood',\n",
       "       'Description', 'Lot Size'], dtype=object)"
      ]
     },
     "execution_count": 8,
     "metadata": {},
     "output_type": "execute_result"
    }
   ],
   "source": [
    "training_val_data.columns.values"
   ]
  },
  {
   "cell_type": "markdown",
   "metadata": {
    "deletable": false,
    "editable": false
   },
   "source": [
    "<!-- BEGIN QUESTION -->\n",
    "\n",
    "<br/>\n",
    "<hr style=\"border: 5px solid #003262;\" />\n",
    "<hr style=\"border: 1px solid #fdb515;\" />\n",
    "\n",
    "## 👥 Question 1: Human Context and Ethics\n",
    "\n",
    "In this part of the project, we will explore the human context of our housing dataset. **You should watch [Lecture 15](https://ds100.org/sp25/lecture/lec15/) before attempting this question.**\n",
    "\n",
    "<br>\n",
    "\n",
    "--- \n",
    "\n",
    "### Question 1a\n",
    "Consider the following question: *\"How much is a house worth?\"*\n",
    "\n",
    "Who might be interested in an answer to this question? Be sure to list at least three different parties (people or organizations) and state whether each one has an interest in seeing a low or high housing price.\n",
    "\n",
    "*Your response should be approximately 3 to 6 sentences.*"
   ]
  },
  {
   "cell_type": "markdown",
   "metadata": {
    "tags": [
     "otter_answer_cell"
    ]
   },
   "source": [
    "_Homeowners, buyers, and real estate agents are some of the parties that may be interested in seeing housing prices. Homeowners generally prefer high house prices since it increases the value of their property and allows them to sell at a higher profit. Buyers favor a low housing price because it makes homes more affordable and allows them to purchase property with a lower bar. Real estate agents benefit form higher house prices because they get commission when they work with buyers when they sell the house (they earn a percentage of the sale price), meaning they earn more when houses sell for higher._"
   ]
  },
  {
   "cell_type": "markdown",
   "metadata": {
    "deletable": false,
    "editable": false
   },
   "source": [
    "<!-- END QUESTION -->\n",
    "\n",
    "<!-- BEGIN QUESTION -->\n",
    "\n",
    "<br>\n",
    "\n",
    "--- \n",
    "\n",
    "### Question 1b\n",
    "\n",
    "Which of the following scenarios strikes you as unfair, and why? You can choose more than one. There is no single right answer, but you must explain your reasoning. Would you consider some of these scenarios more (or less) fair than others? Why?\n",
    "\n",
    "A. A homeowner whose home is assessed at a higher price than it would sell for.  \n",
    "\n",
    "B. A homeowner whose home is assessed at a lower price than it would sell for. \n",
    "\n",
    "C. An assessment process that systematically overvalues inexpensive properties and undervalues expensive properties.  \n",
    "\n",
    "D. An assessment process that systematically undervalues inexpensive properties and overvalues expensive properties.\n",
    "\n",
    "*Your response for each chosen scenario should be approximately 2 to 3 sentences.*"
   ]
  },
  {
   "cell_type": "markdown",
   "metadata": {
    "tags": [
     "otter_answer_cell"
    ]
   },
   "source": [
    "_I believe the scenarios A, B, and C strike me as unfair._\n",
    "_In scenario A, if a homeowners house is priced higher than it is actually worth, it is not fair for potential buyers hoping to move into the neighborhood because there is more financial burden on the buyer and they are not being offered the best/an honest price for the house (the buyer is potentially losing money because that property is overvalued). To add, the homeowner would be paying higher taxes on their property than they should, which does not reflect the situation the homeowner is in or what others are paying for their home, and it may be harder for them to sell their house._\n",
    "_Similarly for scenario B, it is unfair for the real estate agent. If a homeowner sells their home for lower than it should have been priced at, the real estate agent receives less compensation than they should have receieved._\n",
    "_For scenario C, it disproportionatly affects lower-income houseowners because they end up having to pay more in property taxes relative to their actual home value. Meanwhile, wealthier homeowners with expensive properties benefit from lower tax burdens, creating an inequitable distribution of tax responsibilities._"
   ]
  },
  {
   "cell_type": "markdown",
   "metadata": {
    "deletable": false,
    "editable": false
   },
   "source": [
    "<!-- END QUESTION -->\n",
    "\n",
    "<br>\n",
    "\n",
    "---\n",
    "\n",
    "### Question 1c\n",
    "\n",
    "Consider a model fit to $n = 50$ training observations. Which of the following three residual plots corresponds to a model that makes property assessments resulting in **regressive** taxation? Recall from Lecture 15 that regressive taxation overvalues inexpensive properties and undervalues expensive properties. \n",
    "\n",
    "Assign `q1c` to the string letter corresponding to your plot choice.\n",
    "\n",
    "We denote the response as $y$ (Log Sale Price), the prediction as $\\hat{y}$, and the corresponding residual as $y - \\hat{y}$. Assume that all three plots use the same vertical scale and that the horizontal line marks $y - \\hat{y} = 0$. \n",
    "\n",
    "**Hint:** When a model overvalues a property (predicts a `Sale Price` greater than the actual `Sale Price`), what are the relative sizes of $y$ and $\\hat{y}$? What about when a model undervalues a property?\n",
    "\n",
    "<img src='images/res_plots.png' width=\"900px\" />"
   ]
  },
  {
   "cell_type": "code",
   "execution_count": 9,
   "metadata": {
    "tags": [
     "otter_answer_cell"
    ]
   },
   "outputs": [],
   "source": [
    "q1c = \"A\""
   ]
  },
  {
   "cell_type": "code",
   "execution_count": 10,
   "metadata": {
    "deletable": false,
    "editable": false
   },
   "outputs": [
    {
     "data": {
      "text/html": [
       "<p><strong><pre style='display: inline;'>q1c</pre></strong> passed! 🍀</p>"
      ],
      "text/plain": [
       "q1c results: All test cases passed!"
      ]
     },
     "execution_count": 10,
     "metadata": {},
     "output_type": "execute_result"
    }
   ],
   "source": [
    "grader.check(\"q1c\")"
   ]
  },
  {
   "cell_type": "markdown",
   "metadata": {},
   "source": [
    "## The CCAO Dataset\n",
    "\n",
    "You'll work with the dataset from the Cook County Assessor's Office (CCAO) in Illinois. This government institution determines property taxes across most of Chicago's metropolitan areas and nearby suburbs. In the United States, all property owners must pay property taxes, which are then used to fund public services, including education, road maintenance, and sanitation. These property tax assessments are based on property values estimated using statistical models considering multiple factors, such as real estate value and construction cost.\n",
    "\n",
    "However, this system is not without flaws. In late 2017, a lawsuit was filed against the office of Cook County Assessor Joseph Berrios for producing \"[racially discriminatory assessments and taxes](https://www.chicagotribune.com/politics/ct-cook-county-board-assessor-berrios-met-20170718-story.html).\" The lawsuit included claims that the assessor's office undervalued high-priced homes and overvalued low-priced homes, creating a visible divide along racial lines. Wealthy homeowners, who were typically white, paid less in property taxes, whereas [working-class, non-white homeowners paid more](https://www.chicagotribune.com/news/breaking/ct-cook-county-assessor-berrios-sued-met-20171214-story.html).\n",
    "\n",
    "The Chicago Tribune's four-part series, \"[The Tax Divide](https://www.chicagotribune.com/investigations/ct-tax-divide-investigation-20180425-storygallery.html),\" delves into how this was uncovered. After \"compiling and analyzing more than 100 million property tax records from the years 2003 through 2015, along with thousands of pages of documents, then vetting the findings with top experts in the field,\" they discovered that \"residential assessments had been so far off the mark for so many years.\" You can read more about their investigation [here](https://apps.chicagotribune.com/news/watchdog/cook-county-property-tax-divide/assessments.html).\n",
    "\n",
    "Make sure to watch [Lecture 15](https://ds100.org/sp25/lecture/lec15/) before answering the following questions!"
   ]
  },
  {
   "cell_type": "markdown",
   "metadata": {
    "deletable": false,
    "editable": false
   },
   "source": [
    "<!-- BEGIN QUESTION -->\n",
    "\n",
    "<br>\n",
    "\n",
    "--- \n",
    "\n",
    "### Question 1d\n",
    "\n",
    "What were the central problems with the earlier property tax system in Cook County as reported by the Chicago Tribune? What were the primary causes of these problems? \n",
    "\n",
    "*Your response should be approximately 2 to 4 sentences.*\n",
    "\n",
    "**Note:** Along with reading the paragraph above, you will need to watch [Lecture 15](https://ds100.org/sp25/lecture/lec15/) to answer this question."
   ]
  },
  {
   "cell_type": "markdown",
   "metadata": {
    "tags": [
     "otter_answer_cell"
    ]
   },
   "source": [
    "_The CCAO’s model for estimating house value perpetuated a highly regressive tax system and correlated property values with racial demographics, which are problems with teh Cook County tax system. One potential cause was due to failing to accurately account for real estate market trends. Another potential cause was due to wealthier homeowners having the means to successfully appeal their property assessments, reducing their taxes burdens, because they could afford good lawyers, while lower-income homeowners were less likely to._"
   ]
  },
  {
   "cell_type": "markdown",
   "metadata": {
    "deletable": false,
    "editable": false
   },
   "source": [
    "<!-- END QUESTION -->\n",
    "\n",
    "<!-- BEGIN QUESTION -->\n",
    "\n",
    "<br>\n",
    "\n",
    "--- \n",
    "\n",
    "### Question 1e\n",
    "\n",
    "In addition to being regressive, how did the property tax system in Cook County place a disproportionate tax burden on non-white property owners?\n",
    "\n",
    "*Your response should be approximately 3 to 4 sentences.*"
   ]
  },
  {
   "cell_type": "markdown",
   "metadata": {
    "tags": [
     "otter_answer_cell"
    ]
   },
   "source": [
    "_The property tax system in Cook County placed a disproportionate tax burden on non-white property owners because it systematically overvalued lower-priced homes, which were more likely to be located in predominantly non-white neighborhoods, and undervalued higher-priced homes, which were more common in wealthier, predominantly white areas. This meant that non-white homeowners were often taxed at higher effective rates than their wealthier, white counterparts, even when their properties were worth less. Additionally, wealthier homeowners were more likely to successfully appeal their property assessments, further reducing their tax burden, while non-white and lower-income homeowners had fewer resources or knowledge to navigate the appeals process. As a result, the system reinforced racial and economic inequalities by shifting more of the tax burden onto non-white communities._"
   ]
  },
  {
   "cell_type": "markdown",
   "metadata": {
    "deletable": false,
    "editable": false
   },
   "source": [
    "<!-- END QUESTION -->\n",
    "\n",
    "<br>\n",
    "\n",
    "<hr style=\"border: 1px solid #fdb515;\" />\n",
    "\n",
    "## 🧑‍🍳 Question 2: Preparing Data\n",
    "\n",
    "\n",
    "We will next split the dataset into a training set and a validation set. We will use the training set to fit our model's parameters and the validation set to evaluate how well our model will perform on unseen data drawn from the same distribution as the training set. \n",
    "\n",
    "> If we used all the data to fit our model, we would not have a way to estimate model performance on **unseen data** such as the test set in `cook_county_contest_test.csv`.\n",
    "\n",
    "In the cell below, complete the function `train_val_split` that splits `data` into two smaller `DataFrame`s named `train` and `validation`. Let `train` contain 80% of the data, and let `validation` contain the remaining 20%. **You should not import any additional libraries for this question.** \n",
    "\n",
    "To ensure that your code matches the solution, use the first 80% as the training set and the last 20% as the validation set. \n",
    "\n",
    "You should only use `NumPy` functions to generate randomness! Your answer should use the variable `shuffled_indices` defined for you. Take a look at the [documentation](https://numpy.org/doc/stable/reference/random/generated/numpy.random.permutation.html) for `np.permutation` to better understand what `shuffled_indices` contains.\n",
    "\n",
    "**Hint:** While there are multiple solutions, one way is to create two `NumPy` arrays named `train_indices` and `validation_indices` (or any variable names of your choice) that contain a *random* 80% and 20% of the indices, respectively. Then, use these arrays to index into `data` to create your final `train` and `validation` `DataFrame`s. Remember, the values you use to partition `data` must be integers!\n",
    "\n",
    "*The provided tests check that you not only answered correctly but ended up with the same train/validation split as our reference implementation. Testing later on is easier this way.*"
   ]
  },
  {
   "cell_type": "code",
   "execution_count": 11,
   "metadata": {
    "tags": [
     "otter_answer_cell"
    ]
   },
   "outputs": [],
   "source": [
    "# This makes the train-validation split in this section reproducible across different runs \n",
    "# of the notebook. You do not need this line to run train_val_split in general.\n",
    "\n",
    "# DO NOT CHANGE THIS LINE\n",
    "np.random.seed(1337)\n",
    "# DO NOT CHANGE THIS LINE\n",
    "\n",
    "def train_val_split(data):\n",
    "    \"\"\" \n",
    "    Takes in a DataFrame `data` and randomly splits it into two smaller DataFrames \n",
    "    named `train` and `validation` with 80% and 20% of the data, respectively. \n",
    "    \"\"\"\n",
    "    \n",
    "    data_len = data.shape[0]\n",
    "    shuffled_indices = np.random.permutation(data_len)\n",
    "    split_idx = int(0.8*len(shuffled_indices))\n",
    "    train_indices = shuffled_indices[:split_idx]\n",
    "    val_indices = shuffled_indices[split_idx:]\n",
    "    train = data.iloc[train_indices]\n",
    "    validation = data.iloc[val_indices]\n",
    "   \n",
    "    return train, validation\n",
    "train, validation = train_val_split(training_val_data)"
   ]
  },
  {
   "cell_type": "code",
   "execution_count": 12,
   "metadata": {
    "deletable": false,
    "editable": false
   },
   "outputs": [
    {
     "data": {
      "text/html": [
       "<p><strong><pre style='display: inline;'>q2</pre></strong> passed! 🌈</p>"
      ],
      "text/plain": [
       "q2 results: All test cases passed!"
      ]
     },
     "execution_count": 12,
     "metadata": {},
     "output_type": "execute_result"
    }
   ],
   "source": [
    "grader.check(\"q2\")"
   ]
  },
  {
   "cell_type": "markdown",
   "metadata": {},
   "source": [
    "<br>\n",
    "\n",
    "<hr style=\"border: 1px solid #fdb515;\" />\n",
    "\n",
    "## 🎛️ Question 3: Fitting a Simple Model\n",
    "\n",
    "Let's fit a linear regression model using the ordinary least squares (OLS) estimator. We will start with a simple model that uses only two features: the **number of bathrooms** in the household and the **log-transformed total area covered by the building** (in square feet). \n",
    "\n",
    "Consider the following expression for our first linear model that contains one of the features:\n",
    "\n",
    "$$\n",
    "\\text{Log Sale Price} = \\theta_0 + \\theta_1 \\cdot (\\text{Bathrooms})\n",
    "$$\n",
    "\n",
    "In parallel, we will also consider a second model that contains both features:\n",
    "\n",
    "$$\n",
    "\\text{Log Sale Price} = \\theta_0 + \\theta_1 \\cdot (\\text{Bathrooms}) + \\theta_2 \\cdot (\\text{Log Building Square Feet})\n",
    "$$"
   ]
  },
  {
   "cell_type": "markdown",
   "metadata": {
    "deletable": false,
    "editable": false
   },
   "source": [
    "<br>\n",
    "\n",
    "--- \n",
    "\n",
    "## Question 3a\n",
    "\n",
    "**Without running any calculation or code**, assign `q3a` to the comparator ('>=', '=', '<=') that correctly completes the following statement:\n",
    "\n",
    "We quantify the loss on our linear models using MSE (Mean Squared Error). Consider the training loss of the first model and the training loss of the second model. If we use normal equations to obtain the optimal set of parameters, we are guaranteed that:\n",
    "\n",
    "$$\n",
    "\\text{Training Loss of the 2nd Model} ~~  \\_\\_\\_\\_ ~~ \\text{Training Loss of the 1st Model}\n",
    "$$"
   ]
  },
  {
   "cell_type": "code",
   "execution_count": 13,
   "metadata": {
    "tags": [
     "otter_answer_cell"
    ]
   },
   "outputs": [],
   "source": [
    "q3a = '<='"
   ]
  },
  {
   "cell_type": "code",
   "execution_count": 14,
   "metadata": {
    "deletable": false,
    "editable": false
   },
   "outputs": [
    {
     "data": {
      "text/html": [
       "<p><strong><pre style='display: inline;'>q3a</pre></strong> passed! 🌈</p>"
      ],
      "text/plain": [
       "q3a results: All test cases passed!"
      ]
     },
     "execution_count": 14,
     "metadata": {},
     "output_type": "execute_result"
    }
   ],
   "source": [
    "grader.check(\"q3a\")"
   ]
  },
  {
   "cell_type": "markdown",
   "metadata": {},
   "source": [
    "<br>\n",
    "\n",
    "### Pipeline Function\n",
    "\n",
    "In Project A1, you wrote a few functions that added features to the dataset. Instead of calling them manually one by one, it is best practice to encapsulate all of this feature engineering into one \"pipeline\" function. Pipelines reduce all the feature engineering to just one function call and ensures that the same transformations are applied to all data.  \n",
    "\n",
    "Below, we combined some functions into a single helper function that outputs `X` and `Y` for the first model above. Try to understand what this function does! \n",
    "\n",
    "**Note 1:** We have automatically imported staff implementations of the functions you wrote in Project A1. These functions are `remove_outliers`, `add_total_bathrooms`, `find_expensive_neighborhoods`, `add_in_expensive_neighborhood`, and `ohe_wall_material`. You are welcome to copy over your own implementations if you would like.\n",
    "\n",
    "**Note 2:** The staff implementation provided for `remove_outliers` is slightly different from what you did in Project A1. Here `remove_outliers` is exclusive for the bounds whereas in Project A1, it was inclusive for the bounds. `remove_outliers` will only output values strictly greater than the lower bound and strictly smaller than the upper bound. Feel free to still use your original implementation of the function; it shouldn't affect your score if it was done correctly but may slightly change your approach to `q5f`."
   ]
  },
  {
   "cell_type": "code",
   "execution_count": 15,
   "metadata": {},
   "outputs": [
    {
     "data": {
      "text/html": [
       "<div>\n",
       "<style scoped>\n",
       "    .dataframe tbody tr th:only-of-type {\n",
       "        vertical-align: middle;\n",
       "    }\n",
       "\n",
       "    .dataframe tbody tr th {\n",
       "        vertical-align: top;\n",
       "    }\n",
       "\n",
       "    .dataframe thead th {\n",
       "        text-align: right;\n",
       "    }\n",
       "</style>\n",
       "<table border=\"1\" class=\"dataframe\">\n",
       "  <thead>\n",
       "    <tr style=\"text-align: right;\">\n",
       "      <th></th>\n",
       "      <th>Bathrooms</th>\n",
       "    </tr>\n",
       "  </thead>\n",
       "  <tbody>\n",
       "    <tr>\n",
       "      <th>130829</th>\n",
       "      <td>2.5</td>\n",
       "    </tr>\n",
       "    <tr>\n",
       "      <th>193890</th>\n",
       "      <td>1.0</td>\n",
       "    </tr>\n",
       "    <tr>\n",
       "      <th>30507</th>\n",
       "      <td>1.5</td>\n",
       "    </tr>\n",
       "    <tr>\n",
       "      <th>91308</th>\n",
       "      <td>1.5</td>\n",
       "    </tr>\n",
       "    <tr>\n",
       "      <th>131132</th>\n",
       "      <td>2.5</td>\n",
       "    </tr>\n",
       "  </tbody>\n",
       "</table>\n",
       "</div>"
      ],
      "text/plain": [
       "        Bathrooms\n",
       "130829        2.5\n",
       "193890        1.0\n",
       "30507         1.5\n",
       "91308         1.5\n",
       "131132        2.5"
      ]
     },
     "metadata": {},
     "output_type": "display_data"
    },
    {
     "data": {
      "text/plain": [
       "130829    12.994530\n",
       "193890    11.848683\n",
       "30507     11.813030\n",
       "91308     13.060488\n",
       "131132    12.516861\n",
       "Name: Log Sale Price, dtype: float64"
      ]
     },
     "metadata": {},
     "output_type": "display_data"
    }
   ],
   "source": [
    "from feature_func import *    # Import functions from Project A1\n",
    "\n",
    "###### Copy any function you would like to below ######\n",
    "...\n",
    "#######################################################\n",
    "\n",
    "\n",
    "def feature_engine_simple(data):\n",
    "    # Remove outliers\n",
    "    data = remove_outliers(data, 'Sale Price', lower=499)\n",
    "    # Create Log Sale Price column\n",
    "    data = log_transform(data, 'Sale Price')\n",
    "    # Create Bathrooms column\n",
    "    data = add_total_bathrooms (data)\n",
    "    # Select X and Y from the full data\n",
    "    X = data[['Bathrooms']]\n",
    "    Y = data['Log Sale Price']\n",
    "    return X, Y\n",
    "\n",
    "# Reload the data\n",
    "full_data = pd.read_csv(\"cook_county_train.csv\")\n",
    "\n",
    "# Process the data using the pipeline for the first model.\n",
    "np.random.seed(1337)\n",
    "train_m1, valid_m1 = train_val_split(full_data)\n",
    "X_train_m1_simple, Y_train_m1_simple = feature_engine_simple(train_m1)\n",
    "X_valid_m1_simple, Y_valid_m1_simple = feature_engine_simple(valid_m1)\n",
    "\n",
    "# Take a look at the result\n",
    "display(X_train_m1_simple.head())\n",
    "display(Y_train_m1_simple.head())"
   ]
  },
  {
   "cell_type": "markdown",
   "metadata": {},
   "source": [
    "### `.pipe`\n",
    "\n",
    "Alternatively, we can build the pipeline using `pd.DataFrame.pipe` ([documentation](https://pandas.pydata.org/pandas-docs/stable/reference/api/pandas.DataFrame.pipe.html)). Take a look at our use of `pd.DataFrame.pipe` below. \n",
    "\n",
    "The following function `feature_engine_pipe` takes in a `DataFrame` `data`, a list `pipeline_functions` containing 3-element tuples `(function, arguments, keyword_arguments)` that will be called on `data` in the pipeline, and the label `prediction_col` that represents the column of our target variable (`Sale Price` in this case). You can use this function with each of the tuples passed in through `pipeline_functions`."
   ]
  },
  {
   "cell_type": "code",
   "execution_count": 16,
   "metadata": {},
   "outputs": [],
   "source": [
    "# Run this cell to define feature_engine_pipe; no further action is needed.\n",
    "def feature_engine_pipe(data, pipeline_functions, prediction_col):\n",
    "    \"\"\"Process the data for a guided model.\"\"\"\n",
    "    for function, arguments, keyword_arguments in pipeline_functions:\n",
    "        if keyword_arguments and (not arguments):\n",
    "            data = data.pipe(function, **keyword_arguments)\n",
    "        elif (not keyword_arguments) and (arguments):\n",
    "            data = data.pipe(function, *arguments)\n",
    "        else:\n",
    "            data = data.pipe(function)\n",
    "    X = data.drop(columns=[prediction_col])\n",
    "    Y = data.loc[:, prediction_col]\n",
    "    return X, Y"
   ]
  },
  {
   "cell_type": "markdown",
   "metadata": {},
   "source": [
    "<br>\n",
    "\n",
    "--- \n",
    "\n",
    "## Question 3b\n",
    "\n",
    "It is time to prepare the training and validation data for the two models we proposed above. Use the following two cells to reload a fresh dataset and run it through the following preprocessing steps using `feature_engine_pipe`. **You will run the steps below two times: once for the first model, and once for the second model.**\n",
    "\n",
    "- Perform a `train_val_split` on the original dataset, loaded as the `DataFrame` `full_data`. Let 80% of the set be training data, and 20% of the set be validation data. This split should be identical for both models. \n",
    "- For both the training and validation set,\n",
    "    1. Remove outliers in `Sale Price`. We only consider households with a price that is greater than 499 dollars (or equivalently, a price that is 500 dollars or greater). \n",
    "    2. Apply log transformations to the `Sale Price` and the `Building Square Feet` columns to create two new columns, `Log Sale Price` and `Log Building Square Feet`.\n",
    "    3. Extract the total number of Bathrooms into a new column `Bathrooms` from the `Description` column.\n",
    "    4. Select the columns `Log Sale Price` and `Bathrooms` (and `Log Building Square Feet` if this is the second model). We have implemented the helper function `select_columns` for you.\n",
    "    5. Return the design matrix $\\mathbb{X}$ and the observed vector $\\mathbb{Y}$. Note that $\\mathbb{Y}$ refers to the transformed `Log Sale Price`, not the original `Sale Price`. **Your design matrix and observed vector should be `NumPy` arrays or `pandas` `DataFrame`s**.\n",
    "\n",
    "Assign the final training data and validation data for both models to the following set of variables:\n",
    "\n",
    "- First Model: `X_train_m1`, `Y_train_m1`, `X_valid_m1`, `Y_valid_m1`. This is already implemented for you. \n",
    "- Second Model: `X_train_m2`, `Y_train_m2`, `X_valid_m2`, `Y_valid_m2`. Please implement this in the second cell below. You may use the first model as an example.\n",
    "\n",
    "As an example of how to work with pipelines, we have processed model 1 for you using `m1_pipelines` by passing in the corresponding pipeline functions as a list of tuples. Your task is to do the same thing for model 2. In other words, save the relevant pipeline functions for model 2 as a list of tuples and assign it to `m2_pipelines`.\n",
    "\n",
    "As a refresher, the equations of model 1 and model 2, respectively, are:\n",
    "$$\n",
    "\\text{Log Sale Price} = \\theta_0 + \\theta_1 \\cdot (\\text{Bathrooms})\n",
    "$$\n",
    "\n",
    "\n",
    "$$\n",
    "\\text{Log Sale Price} = \\theta_0 + \\theta_1 \\cdot (\\text{Bathrooms}) + \\theta_2 \\cdot (\\text{Log Building Square Feet})\n",
    "$$\n",
    "\n",
    "**Note**: Do not change the line `np.random.seed(1337)` as it ensures we are partitioning the dataset the same way for both models (otherwise, their performance isn't directly comparable)."
   ]
  },
  {
   "cell_type": "code",
   "execution_count": 17,
   "metadata": {},
   "outputs": [
    {
     "data": {
      "text/html": [
       "<div>\n",
       "<style scoped>\n",
       "    .dataframe tbody tr th:only-of-type {\n",
       "        vertical-align: middle;\n",
       "    }\n",
       "\n",
       "    .dataframe tbody tr th {\n",
       "        vertical-align: top;\n",
       "    }\n",
       "\n",
       "    .dataframe thead th {\n",
       "        text-align: right;\n",
       "    }\n",
       "</style>\n",
       "<table border=\"1\" class=\"dataframe\">\n",
       "  <thead>\n",
       "    <tr style=\"text-align: right;\">\n",
       "      <th></th>\n",
       "      <th>Bathrooms</th>\n",
       "    </tr>\n",
       "  </thead>\n",
       "  <tbody>\n",
       "    <tr>\n",
       "      <th>130829</th>\n",
       "      <td>2.5</td>\n",
       "    </tr>\n",
       "    <tr>\n",
       "      <th>193890</th>\n",
       "      <td>1.0</td>\n",
       "    </tr>\n",
       "    <tr>\n",
       "      <th>30507</th>\n",
       "      <td>1.5</td>\n",
       "    </tr>\n",
       "    <tr>\n",
       "      <th>91308</th>\n",
       "      <td>1.5</td>\n",
       "    </tr>\n",
       "    <tr>\n",
       "      <th>131132</th>\n",
       "      <td>2.5</td>\n",
       "    </tr>\n",
       "  </tbody>\n",
       "</table>\n",
       "</div>"
      ],
      "text/plain": [
       "        Bathrooms\n",
       "130829        2.5\n",
       "193890        1.0\n",
       "30507         1.5\n",
       "91308         1.5\n",
       "131132        2.5"
      ]
     },
     "metadata": {},
     "output_type": "display_data"
    },
    {
     "data": {
      "text/plain": [
       "130829    12.994530\n",
       "193890    11.848683\n",
       "30507     11.813030\n",
       "91308     13.060488\n",
       "131132    12.516861\n",
       "Name: Log Sale Price, dtype: float64"
      ]
     },
     "metadata": {},
     "output_type": "display_data"
    }
   ],
   "source": [
    "# Reload the data\n",
    "full_data = pd.read_csv(\"cook_county_train.csv\")\n",
    "\n",
    "# Apply feature engineering to the data using the pipeline for the first model\n",
    "np.random.seed(1337)\n",
    "train_m1, valid_m1 = train_val_split(full_data)\n",
    "\n",
    "# Helper function\n",
    "def select_columns(data, *columns):\n",
    "    \"\"\"Select only columns passed as arguments.\"\"\"\n",
    "    return data.loc[:, columns]\n",
    "\n",
    "# Pipelines, a list of tuples\n",
    "m1_pipelines = [\n",
    "    (remove_outliers, None, {\n",
    "        'variable': 'Sale Price',\n",
    "        'lower': 499,\n",
    "    }),\n",
    "    (log_transform, None, {'col': 'Sale Price'}),\n",
    "    (add_total_bathrooms, None, None),\n",
    "    (select_columns, ['Log Sale Price', 'Bathrooms'], None)\n",
    "]\n",
    "\n",
    "X_train_m1, Y_train_m1 = feature_engine_pipe(train_m1, m1_pipelines, 'Log Sale Price')\n",
    "X_valid_m1, Y_valid_m1 = feature_engine_pipe(valid_m1, m1_pipelines, 'Log Sale Price')\n",
    "\n",
    "# Take a look at the result\n",
    "# It should be the same above as the result returned by feature_engine_simple\n",
    "display(X_train_m1.head())\n",
    "display(Y_train_m1.head())"
   ]
  },
  {
   "cell_type": "code",
   "execution_count": 18,
   "metadata": {
    "tags": [
     "otter_answer_cell"
    ]
   },
   "outputs": [
    {
     "data": {
      "text/html": [
       "<div>\n",
       "<style scoped>\n",
       "    .dataframe tbody tr th:only-of-type {\n",
       "        vertical-align: middle;\n",
       "    }\n",
       "\n",
       "    .dataframe tbody tr th {\n",
       "        vertical-align: top;\n",
       "    }\n",
       "\n",
       "    .dataframe thead th {\n",
       "        text-align: right;\n",
       "    }\n",
       "</style>\n",
       "<table border=\"1\" class=\"dataframe\">\n",
       "  <thead>\n",
       "    <tr style=\"text-align: right;\">\n",
       "      <th></th>\n",
       "      <th>Bathrooms</th>\n",
       "      <th>Log Building Square Feet</th>\n",
       "    </tr>\n",
       "  </thead>\n",
       "  <tbody>\n",
       "    <tr>\n",
       "      <th>130829</th>\n",
       "      <td>2.5</td>\n",
       "      <td>7.870166</td>\n",
       "    </tr>\n",
       "    <tr>\n",
       "      <th>193890</th>\n",
       "      <td>1.0</td>\n",
       "      <td>7.002156</td>\n",
       "    </tr>\n",
       "    <tr>\n",
       "      <th>30507</th>\n",
       "      <td>1.5</td>\n",
       "      <td>6.851185</td>\n",
       "    </tr>\n",
       "    <tr>\n",
       "      <th>91308</th>\n",
       "      <td>1.5</td>\n",
       "      <td>7.228388</td>\n",
       "    </tr>\n",
       "    <tr>\n",
       "      <th>131132</th>\n",
       "      <td>2.5</td>\n",
       "      <td>7.990915</td>\n",
       "    </tr>\n",
       "  </tbody>\n",
       "</table>\n",
       "</div>"
      ],
      "text/plain": [
       "        Bathrooms  Log Building Square Feet\n",
       "130829        2.5                  7.870166\n",
       "193890        1.0                  7.002156\n",
       "30507         1.5                  6.851185\n",
       "91308         1.5                  7.228388\n",
       "131132        2.5                  7.990915"
      ]
     },
     "metadata": {},
     "output_type": "display_data"
    },
    {
     "data": {
      "text/plain": [
       "130829    12.994530\n",
       "193890    11.848683\n",
       "30507     11.813030\n",
       "91308     13.060488\n",
       "131132    12.516861\n",
       "Name: Log Sale Price, dtype: float64"
      ]
     },
     "metadata": {},
     "output_type": "display_data"
    }
   ],
   "source": [
    "# DO NOT CHANGE THIS LINE\n",
    "np.random.seed(1337)\n",
    "# DO NOT CHANGE THIS LINE\n",
    "\n",
    "# Process the data using the pipeline for the second model\n",
    "train_m2, valid_m2 = train_m1, valid_m1\n",
    "\n",
    "m2_pipelines = [\n",
    "    (remove_outliers, None, {\n",
    "        'variable': 'Sale Price',\n",
    "        'lower': 499,\n",
    "    }),\n",
    "    (log_transform, None, {'col': 'Sale Price'}),\n",
    "    (log_transform, None, {'col': 'Building Square Feet'}),\n",
    "    (add_total_bathrooms, None, None),\n",
    "    (select_columns, ['Log Sale Price', 'Bathrooms', 'Log Building Square Feet'], None)\n",
    "]\n",
    "\n",
    "X_train_m2, Y_train_m2 = feature_engine_pipe(train_m2, m2_pipelines, 'Log Sale Price')\n",
    "X_valid_m2, Y_valid_m2 = feature_engine_pipe(valid_m2, m2_pipelines, 'Log Sale Price')\n",
    "\n",
    "\n",
    "# Take a look at the result\n",
    "display(X_train_m2.head())\n",
    "display(Y_train_m2.head())"
   ]
  },
  {
   "cell_type": "code",
   "execution_count": 19,
   "metadata": {
    "deletable": false,
    "editable": false
   },
   "outputs": [
    {
     "data": {
      "text/html": [
       "<p><strong><pre style='display: inline;'>q3b</pre></strong> passed! ✨</p>"
      ],
      "text/plain": [
       "q3b results: All test cases passed!"
      ]
     },
     "execution_count": 19,
     "metadata": {},
     "output_type": "execute_result"
    }
   ],
   "source": [
    "grader.check(\"q3b\")"
   ]
  },
  {
   "cell_type": "markdown",
   "metadata": {},
   "source": [
    "<br>\n",
    "\n",
    "--- \n",
    "\n",
    "## Question 3c\n",
    "\n",
    "Finally, let's do some regression!\n",
    "\n",
    "We first initialize a `sklearn.linear_model.LinearRegression` object [(documentation)](https://scikit-learn.org/stable/modules/generated/sklearn.linear_model.LinearRegression.html) for both of our models. We set the `fit_intercept = True` to ensure that the linear model has a non-zero intercept (i.e., a bias term)."
   ]
  },
  {
   "cell_type": "code",
   "execution_count": 20,
   "metadata": {},
   "outputs": [],
   "source": [
    "linear_model_m1 = lm.LinearRegression(fit_intercept=True)\n",
    "linear_model_m2 = lm.LinearRegression(fit_intercept=True)"
   ]
  },
  {
   "cell_type": "markdown",
   "metadata": {
    "deletable": false,
    "editable": false
   },
   "source": [
    "Now it's time to fit our linear regression model. Use the cell below to fit both models. Then, use the fitted models to compute the predicted values of `Log Sale Price` for the training data and the predicted values of `Log Sale Price` for the validation data.\n",
    "\n",
    "Assign the predicted values from both of your models on the training and validation set to the following variables:\n",
    "\n",
    "- For the first Model, assign the predicted values for the **training set** to `Y_fitted_m1`, and predicted values for the **validation set** to `Y_predicted_m1`.\n",
    "- For the second model, assign the predicted values for the **training set** to `Y_fitted_m2`, and the predicted values for the **validation set** to `Y_predicted_m2`.\n",
    "\n",
    "**Note**: To make sure you understand how to compute the correct predicted values for both the training and validation data set, there won't be any hidden tests for this part."
   ]
  },
  {
   "cell_type": "code",
   "execution_count": 21,
   "metadata": {
    "tags": [
     "otter_answer_cell"
    ]
   },
   "outputs": [],
   "source": [
    "# Fit the 1st model\n",
    "linear_model_m1.fit(X_train_m1, Y_train_m1)\n",
    "# Compute the fitted and predicted values of Log Sale Price for 1st model\n",
    "Y_fitted_m1 = linear_model_m1.predict(X_train_m1)\n",
    "Y_predicted_m1 = linear_model_m1.predict(X_valid_m1)\n",
    "\n",
    "# Fit the 2nd model\n",
    "linear_model_m2.fit(X_train_m2, Y_train_m2)\n",
    "# Compute the fitted and predicted values of Log Sale Price for 2nd model\n",
    "Y_fitted_m2 = linear_model_m2.predict(X_train_m2)\n",
    "Y_predicted_m2 = linear_model_m2.predict(X_valid_m2)"
   ]
  },
  {
   "cell_type": "code",
   "execution_count": 22,
   "metadata": {
    "deletable": false,
    "editable": false
   },
   "outputs": [
    {
     "data": {
      "text/html": [
       "<p><strong><pre style='display: inline;'>q3c</pre></strong> passed! 💯</p>"
      ],
      "text/plain": [
       "q3c results: All test cases passed!"
      ]
     },
     "execution_count": 22,
     "metadata": {},
     "output_type": "execute_result"
    }
   ],
   "source": [
    "grader.check(\"q3c\")"
   ]
  },
  {
   "cell_type": "markdown",
   "metadata": {},
   "source": [
    "<br>\n",
    "\n",
    "<hr style=\"border: 1px solid #fdb515;\" />\n",
    "\n",
    "## 📊 Question 4: Evaluate Our Simple Model\n",
    "\n",
    "<br>\n",
    "\n",
    "--- \n",
    "\n",
    "Let's now move into the analysis of our two models!"
   ]
  },
  {
   "cell_type": "code",
   "execution_count": 23,
   "metadata": {},
   "outputs": [],
   "source": [
    "def rmse(predicted, actual):\n",
    "    \"\"\"\n",
    "    Calculates RMSE from actual and predicted values.\n",
    "    Input:\n",
    "      predicted (1D array): Vector of predicted/fitted values\n",
    "      actual (1D array): Vector of actual values\n",
    "    Output:\n",
    "      A float, the RMSE value.\n",
    "    \"\"\"\n",
    "    return np.sqrt(np.mean((actual - predicted)**2))"
   ]
  },
  {
   "cell_type": "markdown",
   "metadata": {
    "deletable": false,
    "editable": false
   },
   "source": [
    "<!-- BEGIN QUESTION -->\n",
    "\n",
    "<br>\n",
    "\n",
    "--- \n",
    "\n",
    "## Question 4a\n",
    "\n",
    "We can assess a model's performance and quality of fit with a plot of the residuals ($y-\\hat{y}$) versus the observed outcomes ($y$).\n",
    "\n",
    "In the cell below, use `plt.scatter` [(documentation)](https://matplotlib.org/stable/api/_as_gen/matplotlib.pyplot.scatter.html) to plot the **model 2** residuals of `Log Sale Price` versus the original `Log Sale Price` values. For this part, you only need to plot the residuals and outcomes for the **validation data**.\n",
    "\n",
    "- You should also **ensure that the dot size and opacity in the scatter plot are set appropriately** to reduce the impact of overplotting as much as possible. However, with such a large dataset, it is difficult to avoid overplotting entirely. "
   ]
  },
  {
   "cell_type": "code",
   "execution_count": 24,
   "metadata": {
    "nbgrader": {
     "grade": false,
     "grade_id": "cell-4d79f42d60b94fca",
     "locked": true,
     "schema_version": 1,
     "solution": false
    },
    "tags": [
     "otter_answer_cell"
    ]
   },
   "outputs": [
    {
     "data": {
      "image/png": "[encoded data removed]",
      "text/plain": [
       "<Figure size 1200x900 with 1 Axes>"
      ]
     },
     "metadata": {},
     "output_type": "display_data"
    }
   ],
   "source": [
    "plt.scatter(x=Y_valid_m2, y=Y_valid_m2-Y_predicted_m2, alpha=0.25, s=15)\n",
    "plt.title('Residuals and Outcomes for Validation Data')\n",
    "plt.xlabel('Observed Log Sale Price')\n",
    "plt.ylabel('Residuals');"
   ]
  },
  {
   "cell_type": "markdown",
   "metadata": {
    "deletable": false,
    "editable": false
   },
   "source": [
    "<!-- END QUESTION -->\n",
    "\n",
    "<br>\n",
    "\n",
    "--- \n",
    "\n",
    "## Question 4b\n",
    "\n",
    "Based on the structure you see in your plot, does this model appear to correspond to _regressive_, _fair_, or _progressive_ taxation?\n",
    "\n",
    "Assign \"regressive\", \"fair\" or \"progressive\" to `q4b` in the cell below accordingly.\n"
   ]
  },
  {
   "cell_type": "code",
   "execution_count": 25,
   "metadata": {
    "tags": [
     "otter_answer_cell"
    ]
   },
   "outputs": [],
   "source": [
    "q4b = 'regressive'"
   ]
  },
  {
   "cell_type": "code",
   "execution_count": 26,
   "metadata": {
    "deletable": false,
    "editable": false
   },
   "outputs": [
    {
     "data": {
      "text/html": [
       "<p><strong><pre style='display: inline;'>q4b</pre></strong> passed! 💯</p>"
      ],
      "text/plain": [
       "q4b results: All test cases passed!"
      ]
     },
     "execution_count": 26,
     "metadata": {},
     "output_type": "execute_result"
    }
   ],
   "source": [
    "grader.check(\"q4b\")"
   ]
  },
  {
   "cell_type": "markdown",
   "metadata": {
    "deletable": false,
    "editable": false
   },
   "source": [
    "<br>\n",
    "\n",
    "--- \n",
    "\n",
    "## Question 4ci\n",
    "\n",
    "`k`-fold cross validation (CV) allows us to more accurately evaluate our models than a single train-validation split. In `k`-fold CV, every data point is used in model training at some point. \n",
    "\n",
    "> Heads up: You should use `k`-fold cross validation to evaluate the different models you create in Question 5, as you will have limited submissions per day on Gradescope to assess your test RMSE. \n",
    "\n",
    "In this HW, we won't use `k`-fold CV to optimize for hyperparameters like we did in Lab 8, since OLS does not have any hyperparameters.\n",
    "\n",
    "Instead, we will use `k`-fold cross validation to generate `k` estimates of the test set RMSE. These `k` RMSEs might be helpful when deciding between models in Question 5.   \n",
    "\n",
    "Below, you will implement `compute_CV_error`. `compute_CV_error` should:\n",
    "1. Use `sklearn`'s `KFold.split` ([documentation](http://scikit-learn.org/stable/modules/generated/sklearn.model_selection.KFold.html))  function to generate `k` splits of the training data. Note that `KFold.split` returns the indices of the data for each split.\n",
    "2. For **each** split:\n",
    "    1. Assign the folds to training and validation based on the split indices and desired features.\n",
    "    2. Train the model on the training folds, and compute the RMSE on the validation fold.\n",
    "3. Finally, return a **list** of the RMSEs computed for each validation fold. \n",
    "    \n",
    "**Hint:**  This should be very similar to your implementation of `compute_CV_error` in Lab 8, but instead of returning an aggregated average of the folds, return the list of `k` RMSEs.\n",
    "    \n",
    "**Note:** The tests for this subpart only check the return value of `compute_CV_error` is a list of the correct length, 4cii will check for correctness."
   ]
  },
  {
   "cell_type": "code",
   "execution_count": 27,
   "metadata": {
    "tags": [
     "otter_answer_cell"
    ]
   },
   "outputs": [],
   "source": [
    "from sklearn.model_selection import KFold\n",
    "\n",
    "def compute_CV_error(X_train, Y_train, folds=10):\n",
    "    '''\n",
    "    Split the training data into `k` subsets.\n",
    "    For each subset, \n",
    "        - Fit a model holding out that subset.\n",
    "        - Compute the MSE on that subset (the validation set).\n",
    "    You should be fitting `k` models in total.\n",
    "    Return a list of `k` RMSEs.\n",
    "\n",
    "    Args:\n",
    "        model: An sklearn model with fit and predict functions. \n",
    "        X_train (DataFrame): Training data.\n",
    "        Y_train (DataFrame): Label.\n",
    "    \n",
    "    Return:\n",
    "         A list of `k` RMSEs.\n",
    "    '''\n",
    "    model = lm.LinearRegression(fit_intercept=True) # Use model that Question 5 requires.\n",
    "    kf = KFold(n_splits=folds)\n",
    "    validation_errors = []\n",
    "    \n",
    "    for train_idx, valid_idx in kf.split(X_train):\n",
    "        # Split the data\n",
    "        split_X_train, split_X_valid = X_train.iloc[train_idx], X_train.iloc[valid_idx]\n",
    "        split_Y_train, split_Y_valid = Y_train.iloc[train_idx], Y_train.iloc[valid_idx]\n",
    "\n",
    "        # Fit the model on the training split\n",
    "        model.fit(split_X_train, split_Y_train)\n",
    "        \n",
    "        # Compute the RMSE on the validation split\n",
    "        error = rmse(model.predict(split_X_valid), split_Y_valid)\n",
    "\n",
    "\n",
    "        validation_errors.append(error)\n",
    "\n",
    "    return validation_errors"
   ]
  },
  {
   "cell_type": "code",
   "execution_count": 28,
   "metadata": {
    "deletable": false,
    "editable": false
   },
   "outputs": [
    {
     "data": {
      "text/html": [
       "<p><strong><pre style='display: inline;'>q4ci</pre></strong> passed! 🍀</p>"
      ],
      "text/plain": [
       "q4ci results: All test cases passed!"
      ]
     },
     "execution_count": 28,
     "metadata": {},
     "output_type": "execute_result"
    }
   ],
   "source": [
    "grader.check(\"q4ci\")"
   ]
  },
  {
   "cell_type": "markdown",
   "metadata": {
    "deletable": false,
    "editable": false
   },
   "source": [
    "<br>\n",
    "\n",
    "--- \n",
    "\n",
    "## Question 4cii\n",
    "\n",
    "Use `compute_CV_error` to generate two lists of RMSEs generated by 4-fold cross validation: one list for Model 1 and one list for Model 2. Assign these lists to `cv_m1` and `cv_m2`, respectively. \n",
    "\n",
    "To ensure the tests run as expected and the correct answers align with the tests, please do not change the random seed used in this question."
   ]
  },
  {
   "cell_type": "code",
   "execution_count": 29,
   "metadata": {
    "tags": [
     "otter_answer_cell"
    ]
   },
   "outputs": [
    {
     "name": "stdout",
     "output_type": "stream",
     "text": [
      "The RMSE errors for 4-fold cross-validation on Model 1 were: [0.8449406074214761, 0.8509652392813478, 0.839719896132506, 0.8390533114490786]\n",
      "The RMSE errors for 4-fold cross-validation on Model 2 were: [0.7986296447828709, 0.8034792940524004, 0.7947882168346344, 0.7939635404119822]\n"
     ]
    }
   ],
   "source": [
    "# DO NOT CHANGE THIS LINE\n",
    "np.random.seed(1337)\n",
    "\n",
    "# MODIFY THESE LINES\n",
    "cv_m1 = compute_CV_error(X_train_m1, Y_train_m1, folds=4)\n",
    "cv_m2 = compute_CV_error(X_train_m2, Y_train_m2, folds=4)\n",
    "print(f\"The RMSE errors for 4-fold cross-validation on Model 1 were: {cv_m1}\")\n",
    "print(f\"The RMSE errors for 4-fold cross-validation on Model 2 were: {cv_m2}\")"
   ]
  },
  {
   "cell_type": "code",
   "execution_count": 30,
   "metadata": {
    "deletable": false,
    "editable": false
   },
   "outputs": [
    {
     "data": {
      "text/html": [
       "<p><strong><pre style='display: inline;'>q4cii</pre></strong> passed! 🚀</p>"
      ],
      "text/plain": [
       "q4cii results: All test cases passed!"
      ]
     },
     "execution_count": 30,
     "metadata": {},
     "output_type": "execute_result"
    }
   ],
   "source": [
    "grader.check(\"q4cii\")"
   ]
  },
  {
   "cell_type": "markdown",
   "metadata": {},
   "source": [
    "While our simple model explains some of the variability in price, there is certainly still a lot of room for improvement —— one reason is we have been only using 1 or 2 features (out of a total of 70+)! In the next part, you will engineer and incorporate more features to improve the model's fairness and accuracy."
   ]
  },
  {
   "cell_type": "markdown",
   "metadata": {},
   "source": [
    "<br>\n",
    "\n",
    "<hr style=\"border: 1px solid #fdb515;\" />\n",
    "\n",
    "# 🏗️ Question 5\n",
    "\n",
    "It is time to build your own model! Here's what's next:\n",
    "\n",
    "1. You will conduct feature engineering on your training data using the `feature_engine_final` function (defined in `q5d`), and you will fit and evaluate the model with the training data.\n",
    "2. You will process the test data with `feature_engine_final`, use the trained model to predict `Log Sale Price` for the test data, transform the predicted and original log-dollar values back to the dollar scale (by using `delog`), and compute the test RMSE.\n",
    "\n",
    "Your goal in Question 5 is to:\n",
    "\n",
    "* Define a function to perform feature engineering and produce a design matrix for modeling.\n",
    "* Apply this feature engineering function to the training data and use it to train a model that can predict the `Log Sale Price` of houses.\n",
    "* Use this trained model to predict the `Log Sale Price`s of the test set. Remember that our test set does not contain the true `Sale Price` of each house –— your model can only predict them! \n",
    "* Submit your predicted `Log Sale Price`s on the test set to Gradescope.\n",
    "\n",
    "\n",
    "Right under the grading scheme, we will outline some important Datahub logistics. **Please make sure you read this carefully to avoid running into memory issues later!**\n",
    "\n",
    "* Question 5a (Not graded): You will explore possible features for your model.\n",
    "* Question 5b (Not graded): You will perform EDA on the dataset. \n",
    "* Question 5c (Not graded): You can define feature engineering helper functions. \n",
    "* Question 5d (**Graded!**): You will create your design matrix and train a model. \n",
    "* Question 5e (Not graded): You will fit and evaluate your model. \n",
    "* Question 5f (**Graded!**): You will generate the predictions for the test set."
   ]
  },
  {
   "cell_type": "markdown",
   "metadata": {},
   "source": [
    "### Grading Scheme\n",
    "\n",
    "Your grade for Question 5 will be based on your model's RMSE when making predictions on the training set, as well as your model’s RMSE when making predictions on the test set. The tables below provide scoring guidelines. If your RMSE lies in a particular range, you will receive the number of points associated with that range.\n",
    "\n",
    "**Important**: While your training RMSE can be checked at any time in this notebook, your test RMSE can only be checked by submitting your model’s predictions to Gradescope. **You will only be able to submit your test set predictions to Gradescope up to 4 times per day**. Attempts will not carry over across days, so we recommend planning ahead to make sure you have enough time to finetune your model! \n",
    "\n",
    "The thresholds are as follows:\n",
    "\n",
    "Points | 3 | 2 | 1 | 0\n",
    "--- | --- | --- | --- | ---\n",
    "Training RMSE | Less than 200k | [200k, 240k) | [240k, 280k) | More than 280k\n",
    "\n",
    "Points | 3 | 2 | 1 | 0\n",
    "--- | --- | --- | --- | ---\n",
    "Test RMSE | Less than 240k | [240k, 280k) | [280k, 300k) | More than 300k"
   ]
  },
  {
   "cell_type": "markdown",
   "metadata": {},
   "source": [
    "<br><br>\n",
    "\n",
    "---\n",
    "## Some notes before you start\n",
    "\n",
    "- **If you are running into memory issues, restart the kernel and only run the cells you need to.** The cell below (question cell) contains most to all of the imports necessary to successfully complete this portion of the project. You do not need to rerun the cell at the top of this notebook to complete Question 5. The autograder will have more than 4GB of memory, so you will not lose credit as long as your solution to Question 5 is within the total memory (4GB) limits of Datahub. By default, we reset the memory and clear all variables using `%reset -f`. If you want to delete specific variables, you may also use `del` in place of `%reset -f%`. For example, the following code will free up memory from data used for older models: `del training_val_data, test_data, train, validation, X_train_m1, X_valid_m1, X_train_m2, X_valid_m1`. Our staff solution can be run independently from all other questions, so we encourage you to do the same to make debugging easier.\n",
    "- **If you need the data again after deleting the variables or resetting, you must reload them again from earlier in the notebook.**\n",
    "- You will be predicting `Log Sale Price` on the data stored in `cook_county_contest_test.csv`. We will delog/exponentiate your prediction on Gradescope to compute RMSE and use this to score your model. Before submitting to Gradescope, make sure that your predicted values can all be delogged (i.e., if one of your `Log Sale Price` predictions is 60, it is too large; $e^{60}$ is too big!)\n",
    "- You MUST remove any additional new cells you add before submitting to Gradescope to avoid any autograder errors. \n",
    "- **You can only submit your test set prediction CSV file to Gradescope up to 4 times per day. Start early!** In the case that you are approved for an extension, you will be granted 4 more submissions for each day the deadline has been extended.\n",
    "\n",
    "**PLEASE READ THE ABOVE MESSAGE CAREFULLY!**"
   ]
  },
  {
   "cell_type": "code",
   "execution_count": 31,
   "metadata": {},
   "outputs": [],
   "source": [
    "# The 3 lines below to clean up memory from previous questions and reinitialize Otter!\n",
    "# If you want to refer to any functions or variables you defined at any point earlier in the project, \n",
    "# Place them in the cell under Question 5c so that you can access them after the memory is reset.\n",
    "# If you think you will not run into any memory issues, you are free to comment out the next 3 lines as well.\n",
    "\n",
    "%reset -f                               \n",
    "import otter                            \n",
    "grader = otter.Notebook(\"projA2.ipynb\")\n",
    "\n",
    "# Imports all the necessary libraries again\n",
    "\n",
    "import numpy as np\n",
    "import pandas as pd\n",
    "from pandas.api.types import CategoricalDtype\n",
    "\n",
    "%matplotlib inline\n",
    "import matplotlib.pyplot as plt\n",
    "import seaborn as sns\n",
    "from sklearn import linear_model as lm\n",
    "\n",
    "import warnings\n",
    "warnings.filterwarnings(\"ignore\")\n",
    "\n",
    "import zipfile\n",
    "import os\n",
    "\n",
    "from ds100_utils import *\n",
    "from feature_func import *\n",
    "\n",
    "from sklearn.preprocessing import OneHotEncoder"
   ]
  },
  {
   "cell_type": "markdown",
   "metadata": {
    "deletable": false,
    "editable": false
   },
   "source": [
    "<br>\n",
    "\n",
    "---\n",
    "\n",
    "## Question 5a: Finding Potential Features\n",
    "\n",
    "**This question is not graded** – it is intended to give helpful guidance on how to get started with feature engineering in `q5d`. You may write as little or as much as you would like here; it will not factor into your grade. \n",
    "\n",
    "Read the documentation about the dataset in `codebook.txt`, located in this directory. Is there any data you think may be related to housing prices? You may want to take note of them below for future reference."
   ]
  },
  {
   "cell_type": "markdown",
   "metadata": {
    "deletable": false,
    "editable": false,
    "tags": []
   },
   "source": [
    "<br>\n",
    "\n",
    "---\n",
    "\n",
    "## Question 5b: More EDA\n",
    "\n",
    "\n",
    "**This question is not graded** – it is intended to give helpful guidance on how to get started with feature engineering. You may write as little or as much as you would like here; it will not factor into your grade. \n",
    "\n",
    "Use the scratch space below to conduct any additional EDA you would like to see. You may use this space to make additional plots to help you visualize the relationship between variables or compute any relevant summary statistics. You are free to add any number of cells as needed below and before the next question. You may find it helpful to review Project A1 and the techniques we explore there.\n",
    "\n",
    "Some potential ideas:\n",
    "    \n",
    "* Plot the distribution of a variable. Is this variable heavily skewed? Are there any outliers? This can inform how you engineer your features later on.\n",
    "\n",
    "* Make a scatter plot between a continuous feature and the outcome. Is there a relationship? Is there a transformation that may linearize the relationship?\n",
    "\n",
    "* Make a plot of a categorical/discrete feature and the outcome. Is there a relationship? How can we transform this categorical data into numerical features that can be useful for OLS?\n",
    "\n",
    "* Find the correlation coefficient between features and the outcome. Is there a strong relationship between the two? Can you find the correlation coefficient between different transformations of the feature and the outcome?\n",
    "\n",
    "</details>"
   ]
  },
  {
   "cell_type": "code",
   "execution_count": 32,
   "metadata": {
    "tags": [
     "otter_answer_cell"
    ]
   },
   "outputs": [
    {
     "data": {
      "text/html": [
       "<div>\n",
       "<style scoped>\n",
       "    .dataframe tbody tr th:only-of-type {\n",
       "        vertical-align: middle;\n",
       "    }\n",
       "\n",
       "    .dataframe tbody tr th {\n",
       "        vertical-align: top;\n",
       "    }\n",
       "\n",
       "    .dataframe thead th {\n",
       "        text-align: right;\n",
       "    }\n",
       "</style>\n",
       "<table border=\"1\" class=\"dataframe\">\n",
       "  <thead>\n",
       "    <tr style=\"text-align: right;\">\n",
       "      <th></th>\n",
       "      <th>PIN</th>\n",
       "      <th>Property Class</th>\n",
       "      <th>Neighborhood Code</th>\n",
       "      <th>Land Square Feet</th>\n",
       "      <th>Town Code</th>\n",
       "      <th>Apartments</th>\n",
       "      <th>Wall Material</th>\n",
       "      <th>Roof Material</th>\n",
       "      <th>Basement</th>\n",
       "      <th>Basement Finish</th>\n",
       "      <th>...</th>\n",
       "      <th>Sale Month of Year</th>\n",
       "      <th>Sale Half of Year</th>\n",
       "      <th>Most Recent Sale</th>\n",
       "      <th>Age Decade</th>\n",
       "      <th>Pure Market Filter</th>\n",
       "      <th>Garage Indicator</th>\n",
       "      <th>Neigborhood Code (mapping)</th>\n",
       "      <th>Town and Neighborhood</th>\n",
       "      <th>Description</th>\n",
       "      <th>Lot Size</th>\n",
       "    </tr>\n",
       "  </thead>\n",
       "  <tbody>\n",
       "    <tr>\n",
       "      <th>0</th>\n",
       "      <td>17294100610000</td>\n",
       "      <td>203</td>\n",
       "      <td>50</td>\n",
       "      <td>2500.0</td>\n",
       "      <td>76</td>\n",
       "      <td>0.0</td>\n",
       "      <td>2.0</td>\n",
       "      <td>1.0</td>\n",
       "      <td>1.0</td>\n",
       "      <td>3.0</td>\n",
       "      <td>...</td>\n",
       "      <td>9</td>\n",
       "      <td>2</td>\n",
       "      <td>1.0</td>\n",
       "      <td>13.2</td>\n",
       "      <td>0</td>\n",
       "      <td>0.0</td>\n",
       "      <td>50</td>\n",
       "      <td>7650</td>\n",
       "      <td>This property, sold on 09/14/2015, is a one-st...</td>\n",
       "      <td>2500.0</td>\n",
       "    </tr>\n",
       "    <tr>\n",
       "      <th>1</th>\n",
       "      <td>13272240180000</td>\n",
       "      <td>202</td>\n",
       "      <td>120</td>\n",
       "      <td>3780.0</td>\n",
       "      <td>71</td>\n",
       "      <td>0.0</td>\n",
       "      <td>2.0</td>\n",
       "      <td>1.0</td>\n",
       "      <td>1.0</td>\n",
       "      <td>1.0</td>\n",
       "      <td>...</td>\n",
       "      <td>5</td>\n",
       "      <td>1</td>\n",
       "      <td>1.0</td>\n",
       "      <td>9.6</td>\n",
       "      <td>1</td>\n",
       "      <td>1.0</td>\n",
       "      <td>120</td>\n",
       "      <td>71120</td>\n",
       "      <td>This property, sold on 05/23/2018, is a one-st...</td>\n",
       "      <td>3780.0</td>\n",
       "    </tr>\n",
       "    <tr>\n",
       "      <th>2</th>\n",
       "      <td>25221150230000</td>\n",
       "      <td>202</td>\n",
       "      <td>210</td>\n",
       "      <td>4375.0</td>\n",
       "      <td>70</td>\n",
       "      <td>0.0</td>\n",
       "      <td>2.0</td>\n",
       "      <td>1.0</td>\n",
       "      <td>2.0</td>\n",
       "      <td>3.0</td>\n",
       "      <td>...</td>\n",
       "      <td>2</td>\n",
       "      <td>1</td>\n",
       "      <td>0.0</td>\n",
       "      <td>11.2</td>\n",
       "      <td>1</td>\n",
       "      <td>1.0</td>\n",
       "      <td>210</td>\n",
       "      <td>70210</td>\n",
       "      <td>This property, sold on 02/18/2016, is a one-st...</td>\n",
       "      <td>4375.0</td>\n",
       "    </tr>\n",
       "    <tr>\n",
       "      <th>3</th>\n",
       "      <td>10251130030000</td>\n",
       "      <td>203</td>\n",
       "      <td>220</td>\n",
       "      <td>4375.0</td>\n",
       "      <td>17</td>\n",
       "      <td>0.0</td>\n",
       "      <td>3.0</td>\n",
       "      <td>1.0</td>\n",
       "      <td>1.0</td>\n",
       "      <td>3.0</td>\n",
       "      <td>...</td>\n",
       "      <td>7</td>\n",
       "      <td>2</td>\n",
       "      <td>1.0</td>\n",
       "      <td>6.3</td>\n",
       "      <td>1</td>\n",
       "      <td>1.0</td>\n",
       "      <td>220</td>\n",
       "      <td>17220</td>\n",
       "      <td>This property, sold on 07/23/2013, is a one-st...</td>\n",
       "      <td>4375.0</td>\n",
       "    </tr>\n",
       "    <tr>\n",
       "      <th>4</th>\n",
       "      <td>31361040550000</td>\n",
       "      <td>202</td>\n",
       "      <td>120</td>\n",
       "      <td>8400.0</td>\n",
       "      <td>32</td>\n",
       "      <td>0.0</td>\n",
       "      <td>3.0</td>\n",
       "      <td>1.0</td>\n",
       "      <td>2.0</td>\n",
       "      <td>3.0</td>\n",
       "      <td>...</td>\n",
       "      <td>6</td>\n",
       "      <td>1</td>\n",
       "      <td>0.0</td>\n",
       "      <td>6.3</td>\n",
       "      <td>1</td>\n",
       "      <td>1.0</td>\n",
       "      <td>120</td>\n",
       "      <td>32120</td>\n",
       "      <td>This property, sold on 06/10/2016, is a one-st...</td>\n",
       "      <td>8400.0</td>\n",
       "    </tr>\n",
       "  </tbody>\n",
       "</table>\n",
       "<p>5 rows × 62 columns</p>\n",
       "</div>"
      ],
      "text/plain": [
       "              PIN  Property Class  Neighborhood Code  Land Square Feet  \\\n",
       "0  17294100610000             203                 50            2500.0   \n",
       "1  13272240180000             202                120            3780.0   \n",
       "2  25221150230000             202                210            4375.0   \n",
       "3  10251130030000             203                220            4375.0   \n",
       "4  31361040550000             202                120            8400.0   \n",
       "\n",
       "   Town Code  Apartments  Wall Material  Roof Material  Basement  \\\n",
       "0         76         0.0            2.0            1.0       1.0   \n",
       "1         71         0.0            2.0            1.0       1.0   \n",
       "2         70         0.0            2.0            1.0       2.0   \n",
       "3         17         0.0            3.0            1.0       1.0   \n",
       "4         32         0.0            3.0            1.0       2.0   \n",
       "\n",
       "   Basement Finish  ...  Sale Month of Year  Sale Half of Year  \\\n",
       "0              3.0  ...                   9                  2   \n",
       "1              1.0  ...                   5                  1   \n",
       "2              3.0  ...                   2                  1   \n",
       "3              3.0  ...                   7                  2   \n",
       "4              3.0  ...                   6                  1   \n",
       "\n",
       "   Most Recent Sale  Age Decade  Pure Market Filter  Garage Indicator  \\\n",
       "0               1.0        13.2                   0               0.0   \n",
       "1               1.0         9.6                   1               1.0   \n",
       "2               0.0        11.2                   1               1.0   \n",
       "3               1.0         6.3                   1               1.0   \n",
       "4               0.0         6.3                   1               1.0   \n",
       "\n",
       "   Neigborhood Code (mapping)  Town and Neighborhood  \\\n",
       "0                          50                   7650   \n",
       "1                         120                  71120   \n",
       "2                         210                  70210   \n",
       "3                         220                  17220   \n",
       "4                         120                  32120   \n",
       "\n",
       "                                         Description  Lot Size  \n",
       "0  This property, sold on 09/14/2015, is a one-st...    2500.0  \n",
       "1  This property, sold on 05/23/2018, is a one-st...    3780.0  \n",
       "2  This property, sold on 02/18/2016, is a one-st...    4375.0  \n",
       "3  This property, sold on 07/23/2013, is a one-st...    4375.0  \n",
       "4  This property, sold on 06/10/2016, is a one-st...    8400.0  \n",
       "\n",
       "[5 rows x 62 columns]"
      ]
     },
     "execution_count": 32,
     "metadata": {},
     "output_type": "execute_result"
    }
   ],
   "source": [
    "full_data = pd.read_csv(\"cook_county_train.csv\", index_col='Unnamed: 0')\n",
    "full_data.head()"
   ]
  },
  {
   "cell_type": "code",
   "execution_count": 3,
   "metadata": {},
   "outputs": [
    {
     "data": {
      "text/plain": [
       "count    2.047920e+05\n",
       "mean     2.451646e+05\n",
       "std      3.628694e+05\n",
       "min      1.000000e+00\n",
       "25%      4.520000e+04\n",
       "50%      1.750000e+05\n",
       "75%      3.120000e+05\n",
       "max      7.100000e+07\n",
       "Name: Sale Price, dtype: float64"
      ]
     },
     "execution_count": 3,
     "metadata": {},
     "output_type": "execute_result"
    }
   ],
   "source": [
    "full_data.describe()[\"Sale Price\"]"
   ]
  },
  {
   "cell_type": "code",
   "execution_count": 4,
   "metadata": {},
   "outputs": [
    {
     "data": {
      "text/plain": [
       "array(['PIN', 'Property Class', 'Neighborhood Code', 'Land Square Feet',\n",
       "       'Town Code', 'Apartments', 'Wall Material', 'Roof Material',\n",
       "       'Basement', 'Basement Finish', 'Central Heating', 'Other Heating',\n",
       "       'Central Air', 'Fireplaces', 'Attic Type', 'Attic Finish',\n",
       "       'Design Plan', 'Cathedral Ceiling', 'Construction Quality',\n",
       "       'Site Desirability', 'Garage 1 Size', 'Garage 1 Material',\n",
       "       'Garage 1 Attachment', 'Garage 1 Area', 'Garage 2 Size',\n",
       "       'Garage 2 Material', 'Garage 2 Attachment', 'Garage 2 Area',\n",
       "       'Porch', 'Other Improvements', 'Building Square Feet',\n",
       "       'Repair Condition', 'Multi Code', 'Number of Commercial Units',\n",
       "       'Estimate (Land)', 'Estimate (Building)', 'Deed No.', 'Sale Price',\n",
       "       'Longitude', 'Latitude', 'Census Tract',\n",
       "       'Multi Property Indicator', 'Modeling Group', 'Age', 'Use',\n",
       "       \"O'Hare Noise\", 'Floodplain', 'Road Proximity', 'Sale Year',\n",
       "       'Sale Quarter', 'Sale Half-Year', 'Sale Quarter of Year',\n",
       "       'Sale Month of Year', 'Sale Half of Year', 'Most Recent Sale',\n",
       "       'Age Decade', 'Pure Market Filter', 'Garage Indicator',\n",
       "       'Neigborhood Code (mapping)', 'Town and Neighborhood',\n",
       "       'Description', 'Lot Size'], dtype=object)"
      ]
     },
     "execution_count": 4,
     "metadata": {},
     "output_type": "execute_result"
    }
   ],
   "source": [
    "full_data.columns.values"
   ]
  },
  {
   "cell_type": "code",
   "execution_count": 21,
   "metadata": {},
   "outputs": [
    {
     "data": {
      "text/plain": [
       "count    2.047920e+05\n",
       "mean     7.809451e+03\n",
       "std      1.525110e+04\n",
       "min      1.697381e+02\n",
       "25%      3.810000e+03\n",
       "50%      5.775000e+03\n",
       "75%      8.515000e+03\n",
       "max      2.980767e+06\n",
       "Name: Land Square Feet, dtype: float64"
      ]
     },
     "execution_count": 21,
     "metadata": {},
     "output_type": "execute_result"
    }
   ],
   "source": [
    "full_data.describe()['Land Square Feet']\n",
    "#full_data.describe()['Building Square Feet']"
   ]
  },
  {
   "cell_type": "code",
   "execution_count": 18,
   "metadata": {},
   "outputs": [
    {
     "data": {
      "text/plain": [
       "<seaborn.axisgrid.FacetGrid at 0x7a74bbf0e010>"
      ]
     },
     "execution_count": 18,
     "metadata": {},
     "output_type": "execute_result"
    },
    {
     "data": {
      "image/png": "[encoded data removed]",
      "text/plain": [
       "<Figure size 500x500 with 1 Axes>"
      ]
     },
     "metadata": {},
     "output_type": "display_data"
    }
   ],
   "source": [
    "sns.displot(data=full_data, x='Age', kind='hist', rug=False)"
   ]
  },
  {
   "cell_type": "code",
   "execution_count": 10,
   "metadata": {},
   "outputs": [
    {
     "data": {
      "text/plain": [
       "<seaborn.axisgrid.FacetGrid at 0x7a751baa1c90>"
      ]
     },
     "execution_count": 10,
     "metadata": {},
     "output_type": "execute_result"
    },
    {
     "data": {
      "image/png": "[encoded data removed]",
      "text/plain": [
       "<Figure size 500x500 with 1 Axes>"
      ]
     },
     "metadata": {},
     "output_type": "display_data"
    }
   ],
   "source": [
    "sns.displot(data=full_data, x='Estimate (Building)', kind='hist', rug=False, kde=True)"
   ]
  },
  {
   "cell_type": "code",
   "execution_count": 33,
   "metadata": {},
   "outputs": [
    {
     "data": {
      "text/plain": [
       "count    2.047920e+05\n",
       "mean     7.809451e+03\n",
       "std      1.525110e+04\n",
       "min      1.697381e+02\n",
       "25%      3.810000e+03\n",
       "50%      5.775000e+03\n",
       "75%      8.515000e+03\n",
       "max      2.980767e+06\n",
       "Name: Lot Size, dtype: float64"
      ]
     },
     "execution_count": 33,
     "metadata": {},
     "output_type": "execute_result"
    }
   ],
   "source": [
    "full_data.describe()['Lot Size']"
   ]
  },
  {
   "cell_type": "code",
   "execution_count": 11,
   "metadata": {},
   "outputs": [
    {
     "data": {
      "text/plain": [
       "<matplotlib.collections.PathCollection at 0x7a74c7d5e750>"
      ]
     },
     "execution_count": 11,
     "metadata": {},
     "output_type": "execute_result"
    },
    {
     "data": {
      "image/png": "[encoded data removed]",
      "text/plain": [
       "<Figure size 640x480 with 1 Axes>"
      ]
     },
     "metadata": {},
     "output_type": "display_data"
    }
   ],
   "source": [
    "plt.scatter(np.log(full_data['Sale Price']), np.log(full_data['Building Square Feet']))"
   ]
  },
  {
   "cell_type": "code",
   "execution_count": 12,
   "metadata": {},
   "outputs": [
    {
     "data": {
      "text/plain": [
       "<matplotlib.collections.PathCollection at 0x7a74c7dd5d90>"
      ]
     },
     "execution_count": 12,
     "metadata": {},
     "output_type": "execute_result"
    },
    {
     "data": {
      "image/png": "[encoded data removed]",
      "text/plain": [
       "<Figure size 640x480 with 1 Axes>"
      ]
     },
     "metadata": {},
     "output_type": "display_data"
    }
   ],
   "source": [
    "plt.scatter(np.log(full_data['Sale Price']), np.log(full_data['Estimate (Building)']))"
   ]
  },
  {
   "cell_type": "code",
   "execution_count": 13,
   "metadata": {},
   "outputs": [
    {
     "data": {
      "text/plain": [
       "<matplotlib.collections.PathCollection at 0x7a74c7d65d90>"
      ]
     },
     "execution_count": 13,
     "metadata": {},
     "output_type": "execute_result"
    },
    {
     "data": {
      "image/png": "[encoded data removed]",
      "text/plain": [
       "<Figure size 640x480 with 1 Axes>"
      ]
     },
     "metadata": {},
     "output_type": "display_data"
    }
   ],
   "source": [
    "plt.scatter(np.log(full_data['Sale Price']), full_data['Age Decade'])"
   ]
  },
  {
   "cell_type": "code",
   "execution_count": 17,
   "metadata": {},
   "outputs": [
    {
     "data": {
      "text/plain": [
       "<Axes: xlabel='Neighborhood Code', ylabel='count'>"
      ]
     },
     "execution_count": 17,
     "metadata": {},
     "output_type": "execute_result"
    },
    {
     "data": {
      "image/png": "[encoded data removed]",
      "text/plain": [
       "<Figure size 640x480 with 1 Axes>"
      ]
     },
     "metadata": {},
     "output_type": "display_data"
    }
   ],
   "source": [
    "#sns.countplot(data=full_data, x='Property Class')\n",
    "sns.countplot(data=full_data, x='Neighborhood Code')"
   ]
  },
  {
   "cell_type": "code",
   "execution_count": 24,
   "metadata": {},
   "outputs": [
    {
     "data": {
      "text/plain": [
       "'This property, sold on 02/13/2019, is a one-story with partially livable attics houeshold located at 701 S HIGHLAND AVE.It has a total of 6 rooms, 3 of which are bedrooms, and 1.0 of which are bathrooms.'"
      ]
     },
     "execution_count": 24,
     "metadata": {},
     "output_type": "execute_result"
    }
   ],
   "source": [
    "full_data['Description'][20]"
   ]
  },
  {
   "cell_type": "markdown",
   "metadata": {
    "deletable": false,
    "editable": false
   },
   "source": [
    "<br>\n",
    "\n",
    "---\n",
    "\n",
    "## Question 5c: Defining Helper Function or Helper Variables\n",
    "\n",
    "**This question is not graded, but we suggest that you put all your helper functions below for readability and ease of testing.** Use this space below to define any additional helper functions you may use in your final model. These can be transformation functions you identified in the optional question above. "
   ]
  },
  {
   "cell_type": "code",
   "execution_count": 33,
   "metadata": {
    "tags": [
     "otter_answer_cell"
    ]
   },
   "outputs": [],
   "source": [
    "# Define any additional helper functions or variables you need here\n",
    "def remove_outliers(data, variable, lower=-np.inf, upper=np.inf):\n",
    "    return data[(data[variable]>=lower)&(data[variable]<=upper)]\n",
    "\n",
    "def add_total_bedrooms(data):\n",
    "    with_rooms = data.copy()\n",
    "    pattern = r'(\\d+) of which are bedrooms'\n",
    "    bedrooms = with_rooms['Description'].str.extract(pattern)[0].astype('float').fillna(0)\n",
    "    with_rooms['Bedrooms'] = bedrooms\n",
    "    return with_rooms"
   ]
  },
  {
   "cell_type": "markdown",
   "metadata": {
    "deletable": false,
    "editable": false
   },
   "source": [
    "<br>\n",
    "\n",
    "---\n",
    "\n",
    "## Question 5d: Defining The Pipeline Function\n",
    "\n",
    "**This question is graded.**\n",
    "\n",
    "Akin to Question 4, you should encapsulate as much of your workflow into functions as possible. In the cell below, you should select better features and define your own feature engineering pipeline inside the function `feature_engine_final`. Use of `.pipe` is not required, but you are welcome to incorporate it! \n",
    "\n",
    "**You must not change the parameters inside `feature_engine_final`. Do not edit the two lines at the end of the question cell below. They are helper functions that define a linear model, fit your data, and compute RMSE. If you do, you will receive no credit for this question.** \n",
    "\n",
    "Additional requirements:\n",
    "- Any feature engineering techniques that involve referencing `Sale Price` (for example, removing outlying `Sale Price` values from the training data) should be performed under the condition `if not is_test_set:`, which is provided in the cell below.\n",
    "- All other feature engineering techniques should be applied to both the training and test sets. This means that you should perform them under the condition `else:`, provided in the cell below.\n",
    "- When `is_test_set` is `True`, your function should return only the design matrix, `X`.\n",
    "- When `is_test_set` is `False`, your function should return both the design matrix and the response variable `Y` (the `Log Sale Price` column).\n",
    "\n",
    "**Hints:**\n",
    "-  Some features may have missing values in the test set but not in the training/validation set. Make sure `feature_engine_final` handles missing values appropriately for each feature.\n",
    "- We have imported all feature engineering functions from Project A1 for you. You do not have access to the `feature_func.py` file with the function body and definitions, but they work as defined in Project A1. Feel free to use them as you see fit!\n",
    "- You may wish to consider removing outlying datapoints from the training set before fitting your model. You may not, however, remove any datapoints from the test set (after all, the CCAO could not simply \"refuse\" to make predictions for a particular house!)\n",
    "- As you finetune your model, you may unintentionally consume too much Datahub memory, causing your kernel to crash. See `q5a` for guidance on how to resolve this!!\n",
    "\n",
    "**Note:** If you run into any errors, the [Proj. A2 Common Mistakes](https://ds100.org/debugging-guide/projA2/projA2.html) section of the [Data 100 Debugging Guide](https://ds100.org/debugging-guide) may be a helpful resource."
   ]
  },
  {
   "cell_type": "code",
   "execution_count": 34,
   "metadata": {
    "tags": [
     "otter_answer_cell"
    ]
   },
   "outputs": [
    {
     "name": "stdout",
     "output_type": "stream",
     "text": [
      "Current training RMSE: 197912.1711390694\n",
      "You can check your grade for your prediction as per the grading scheme outlined at the start of Question 5\n"
     ]
    }
   ],
   "source": [
    "from sklearn.preprocessing import StandardScaler\n",
    "\n",
    "# Please include all of your feature engineering processes inside this function.\n",
    "# Do not modify the parameters of this function.\n",
    "def feature_engine_final(data, is_test_set=False):\n",
    "    # Whenever you access 'Log Sale Price' or 'Sale Price', make sure to use the\n",
    "    # condition is_test_set like this:\n",
    "    if not is_test_set:\n",
    "        # Processing for the training set (i.e. not the test set)\n",
    "        # CAN involve references to sale price!\n",
    "        # CAN involve filtering certain rows or removing outliers\n",
    "        data['Log Sale Price'] = np.log(data['Sale Price'])\n",
    "        data = remove_outliers(data, \"Sale Price\", lower=10000, upper=10000000)\n",
    "    else:\n",
    "        # Processing for the test set\n",
    "        # CANNOT involve references to sale price!\n",
    "        # CANNOT involve removing any rows\n",
    "        pass\n",
    "    # Processing for both test and training set\n",
    "    # CANNOT involve references to sale price!\n",
    "    # CANNOT involve removing any rows\n",
    "    data[\"Log Building Square Feet\"] = np.log(data['Building Square Feet']+1)\n",
    "    data[\"Log Land Square Feet\"] = np.log(data['Land Square Feet']+1)\n",
    "    data[\"Log Estimate (Land)\"] = np.log(data['Estimate (Land)']+1)\n",
    "    data[\"Log Estimate (Building)\"] = np.log(data['Estimate (Building)']+1)\n",
    "    data = add_total_bathrooms(data)\n",
    "    data = add_total_bedrooms(data)\n",
    "    data = substitute_wall_material(data)\n",
    "    data = ohe_wall_material(data)\n",
    "    data['SqftBath'] = data['Log Building Square Feet'] * data['Bathrooms']\n",
    "    features = ['Age',\"Log Land Square Feet\",\"Log Estimate (Land)\",\"Log Estimate (Building)\",'Bathrooms', 'Bedrooms','Log Building Square Feet','Wall Material_Masonry', 'Wall Material_Stucco', 'Wall Material_Wood', 'Wall Material_Wood&Masonry', 'SqftBath']\n",
    "    for col in features:\n",
    "        data[col] = data[col].fillna(data[col].median())\n",
    "\n",
    "    scaler = StandardScaler()\n",
    "    data[features] = scaler.fit_transform(data[features])\n",
    "    \n",
    "    # Return predictors (X) and response (Y) variables separately\n",
    "    if is_test_set:\n",
    "        # Predictors \n",
    "        X = data[features]\n",
    "        return X\n",
    "    else:\n",
    "        # Predictors. Your X should not include Log Sale Price!\n",
    "        X = data[features]\n",
    "        # Response variable\n",
    "        Y = data['Log Sale Price']\n",
    "    \n",
    "        return X, Y\n",
    "\n",
    "# DO NOT EDIT THESE TWO LINES!\n",
    "check_rmse_threshold = run_linear_regression_test_optim(lm.LinearRegression(fit_intercept=True), feature_engine_final, 'cook_county_train.csv', None, False)\n",
    "print(\"Current training RMSE:\", check_rmse_threshold.loss)\n",
    "print(\"You can check your grade for your prediction as per the grading scheme outlined at the start of Question 5\")"
   ]
  },
  {
   "cell_type": "code",
   "execution_count": 35,
   "metadata": {
    "deletable": false,
    "editable": false
   },
   "outputs": [
    {
     "data": {
      "text/html": [
       "<p><strong><pre style='display: inline;'>q5d</pre></strong> passed! 💯</p>"
      ],
      "text/plain": [
       "q5d results: All test cases passed!"
      ]
     },
     "execution_count": 35,
     "metadata": {},
     "output_type": "execute_result"
    }
   ],
   "source": [
    "grader.check(\"q5d\")"
   ]
  },
  {
   "cell_type": "markdown",
   "metadata": {
    "deletable": false,
    "editable": false
   },
   "source": [
    "<br>\n",
    "\n",
    "---\n",
    "\n",
    "## Question 5e: Fit and Evaluate your Model\n",
    "\n",
    "**This question is not graded.** Use this space below to evaluate your models. Some ideas are listed below. \n",
    "\n",
    "**Note:** For grading purposes, you should use a `sklearn` default `LinearRegression()` model with intercept term. Do not modify any hyperparameter in `LinearRegression()`, and focus on feature selection or hyperparameters of your own feature engineering function.\n",
    "\n",
    "It may also be helpful to calculate the RMSE directly as follows:\n",
    "\n",
    "$$RMSE = \\sqrt{\\dfrac{\\sum_{\\text{houses in the set}}(\\text{actual price for house} - \\text{predicted price for house})^2}{\\text{number of houses}}}$$\n",
    "\n",
    "A function that computes the RMSE is provided below. Feel free to use it if you would like calculate the RMSE for your training set."
   ]
  },
  {
   "cell_type": "code",
   "execution_count": 36,
   "metadata": {
    "deletable": false,
    "editable": false
   },
   "outputs": [],
   "source": [
    "def rmse(predicted, actual):\n",
    "    \"\"\"\n",
    "    Calculates RMSE from actual and predicted values.\n",
    "    Input:\n",
    "      predicted (1D array): Vector of predicted/fitted values\n",
    "      actual (1D array): Vector of actual values\n",
    "    Output:\n",
    "      A float, the RMSE value.\n",
    "    \"\"\"\n",
    "    return np.sqrt(np.mean((actual - predicted)**2))"
   ]
  },
  {
   "cell_type": "markdown",
   "metadata": {
    "deletable": false,
    "editable": false
   },
   "source": [
    "<details>\n",
    "    <summary>[<b>Click to Expand</b>] Hints: </summary>\n",
    "    \n",
    "Train set:\n",
    "\n",
    "* Check your RMSE. Is this a reasonable number? You may use our grading scheme as a reference. Keep in mind that training error is generally less than testing error. \n",
    "\n",
    "Test set:\n",
    "* Find the original data shape at the beginning of the notebook (in the provided assert statement). What should the output shape be?\n",
    "\n",
    "* Since test and training/validation sets come from the same population (recall that test and training/validation sets are a random split from larger data), we expect our test prediction to have a similar range as the validation data. Plot the observed training (Log) Sale Price and the predicted (Log) Sale Price. Are the ranges similar? Do you have any unreasonable extreme prediction that cannot be exponentiated?\n",
    "\n",
    "* We cannot compute test RMSE directly since we do not have the observed values. Perform cross-validation (feel free to use `compute_CV_error` from 4c) to estimate your test error. Recall that we are treating the validation set as unseen data.\n",
    "    \n",
    "</details>"
   ]
  },
  {
   "cell_type": "code",
   "execution_count": 37,
   "metadata": {
    "tags": [
     "otter_answer_cell"
    ]
   },
   "outputs": [
    {
     "name": "stdout",
     "output_type": "stream",
     "text": [
      "Training RMSE: 0.6070265803815328\n",
      "Cross-Validation RMSE (Estimated Test RMSE): 0.6072240555553986\n",
      "Original Data Shape: (204792, 64)\n"
     ]
    },
    {
     "data": {
      "image/png": "[encoded data removed]",
      "text/plain": [
       "<Figure size 1000x600 with 1 Axes>"
      ]
     },
     "metadata": {},
     "output_type": "display_data"
    }
   ],
   "source": [
    "# Use this space to evaluate your model\n",
    "# if you reset your memory, you need to define the functions again\n",
    "from sklearn.model_selection import KFold\n",
    "\n",
    "def compute_CV_error(model, X, Y):\n",
    "    kf = KFold(n_splits=5)\n",
    "    cv_errs = []\n",
    "    for train_idx, valid_idx in kf.split(X_train_final):\n",
    "        # Split the data\n",
    "        split_X_train, split_X_valid = X_train_final.iloc[train_idx], X_train_final.iloc[valid_idx]\n",
    "        split_Y_train, split_Y_valid = Y_train_final.iloc[train_idx], Y_train_final.iloc[valid_idx]\n",
    "\n",
    "        model.fit(split_X_train, split_Y_train)\n",
    "\n",
    "        Y_pred = model.predict(split_X_valid)\n",
    "\n",
    "        cv_err = rmse(split_Y_valid, Y_pred)\n",
    "        cv_errs.append(cv_err)\n",
    "\n",
    "    return np.mean(cv_errs)\n",
    "\n",
    "train_data = pd.read_csv('cook_county_train.csv')\n",
    "\n",
    "X_train_final, Y_train_final = feature_engine_final(train_data, is_test_set=False)\n",
    "\n",
    "model = lm.LinearRegression(fit_intercept=True)\n",
    "model.fit(X_train_final, Y_train_final)\n",
    "\n",
    "# Training RMSE\n",
    "train_predictions = model.predict(X_train_final)\n",
    "train_rmse = rmse(Y_train_final, train_predictions)\n",
    "print(f\"Training RMSE: {train_rmse}\")\n",
    "\n",
    "# Test Set Evaluation (using CV)\n",
    "cv_error = compute_CV_error(model, X_train_final, Y_train_final)\n",
    "print(f\"Cross-Validation RMSE (Estimated Test RMSE): {cv_error}\")\n",
    "\n",
    "# Plotting Observed vs. Predicted Log Sale Price\n",
    "plt.figure(figsize=(10, 6))\n",
    "plt.scatter(x=np.log(Y_train_final), y=np.log(train_predictions), alpha=0.25, s=15)\n",
    "\n",
    "original_data_shape = train_data.shape\n",
    "print(f\"Original Data Shape: {original_data_shape}\")"
   ]
  },
  {
   "cell_type": "markdown",
   "metadata": {
    "deletable": false,
    "editable": false
   },
   "source": [
    "<br>\n",
    "\n",
    "---\n",
    "\n",
    "## Question 5f: Submission\n",
    "\n",
    "**This question is graded.**\n",
    "\n",
    "Recall that the test set provided to you in `cook_county_contest_test.csv` does not contain values for the true `Sale Price` of each house. You can only compute predictions of `Log Sale Price`. \n",
    "\n",
    "To determine your model's RMSE on the test set, you will submit the predictions made by your model to Gradescope. There, we will run checks to see what your test RMSE is by considering the (hidden) true values of `Sale Price` for the observations in the test set. \n",
    "\n",
    "- We will delog/exponentiate your prediction on Gradescope to compute RMSE and use this to score your model. So, be sure to submit predictions of the `Log Sale Price`. Before submitting to Gradescope, make sure that your predicted values can all be delogged/exponentiated (i.e., if one of your `Log Sale Price` predictions is 60, it is too large; $e^{60}$ is too big!)\n",
    "\n",
    "Your score on this section will be determined by the grading scheme outlined at the start of Question 5. **Remember that you can only submit your test set predictions to Gradescope up to 4 times per day. Plan your time to ensure that you can adjust your model as necessary, and please test your model's performance using cross-validation before making any submissions.** \n",
    "\n",
    "- For more on cross-validation, check [Lecture 16](https://ds100.org/sp25/lecture/lec16/). In particular, the [Lecture 16 notebook](https://data100.datahub.berkeley.edu/hub/user-redirect/git-pull?repo=https%3A%2F%2Fgithub.com%2FDS-100%2Fsp25-student&urlpath=lab%2Ftree%2Fsp25-student%2Flecture%2Flec16%2Flec16.ipynb&branch=main) may be helpful here. Feel free to use `compute_CV_error` from 4c as well! \n",
    "\n",
    "To determine the error on the test set, please submit your predictions on the test set to the Gradescope assignment **Project A2 Test Set Predictions**. The CSV file to submit is generated below, and you should not modify the cell below. Simply download the CSV file, and submit it to the appropriate Gradescope assignment.\n",
    "\n",
    "**You will not receive credit for the test set predictions (i.e., up to 3 points) unless you submit to this assignment**!!\n",
    "\n",
    "**Note:** If you run into any errors, the [Proj. A2 Common Mistakes](https://ds100.org/debugging-guide/projA2/projA2.html) section of the [Data 100 Debugging Guide](https://ds100.org/debugging-guide) may be a helpful resource."
   ]
  },
  {
   "cell_type": "code",
   "execution_count": 38,
   "metadata": {
    "deletable": false,
    "editable": false
   },
   "outputs": [
    {
     "data": {
      "text/html": [
       "Download your test prediction <a href='submission_20250404_044226.csv' download>here</a>."
      ],
      "text/plain": [
       "<IPython.core.display.HTML object>"
      ]
     },
     "metadata": {},
     "output_type": "display_data"
    },
    {
     "name": "stdout",
     "output_type": "stream",
     "text": [
      "You may now upload this CSV file to Gradescope for scoring.\n"
     ]
    }
   ],
   "source": [
    "from datetime import datetime\n",
    "from IPython.display import display, HTML\n",
    "\n",
    "Y_test_pred = run_linear_regression_test(lm.LinearRegression(fit_intercept=True), feature_engine_final, None, 'cook_county_train.csv', 'cook_county_contest_test.csv', \n",
    "                                         is_test = True, is_ranking = False, return_predictions = True\n",
    "                                         )\n",
    "\n",
    "# Construct and save the submission:\n",
    "submission_df = pd.DataFrame({\n",
    "    \"Id\": pd.read_csv('cook_county_contest_test.csv')['Unnamed: 0'], \n",
    "    \"Value\": Y_test_pred,\n",
    "}, columns=['Id', 'Value'])\n",
    "timestamp = datetime.now().strftime(\"%Y%m%d_%H%M%S\")\n",
    "filename = \"submission_{}.csv\".format(timestamp)\n",
    "submission_df.to_csv(filename, index=False)\n",
    "\n",
    "#print('Created a CSV file: {}.'.format(\"submission_{}.csv\".format(timestamp)))\n",
    "display(HTML(\"Download your test prediction <a href='\" + filename + \"' download>here</a>.\"))\n",
    "print('You may now upload this CSV file to Gradescope for scoring.')#"
   ]
  },
  {
   "cell_type": "code",
   "execution_count": 39,
   "metadata": {
    "deletable": false,
    "editable": false
   },
   "outputs": [
    {
     "data": {
      "text/plain": [
       "count    55311.000000\n",
       "mean        12.196597\n",
       "std          0.726403\n",
       "min          2.421973\n",
       "25%         11.700132\n",
       "50%         12.067566\n",
       "75%         12.585543\n",
       "max         16.840247\n",
       "Name: Value, dtype: float64"
      ]
     },
     "execution_count": 39,
     "metadata": {},
     "output_type": "execute_result"
    }
   ],
   "source": [
    "# Scratch space to check if your prediction is reasonable. See 5e for hints. \n",
    "# We will not reset the submission count for mis-submission issues.\n",
    "submission_df[\"Value\"].describe()"
   ]
  },
  {
   "cell_type": "markdown",
   "metadata": {},
   "source": [
    "Congratulations on finishing your prediction model for home sale prices in Cook County! In the following section, we'll delve deeper into the implications of predictive modeling within the CCAO case study, especially because statistical modeling is how the CCAO valuates properties. \n",
    "\n",
    "Refer to [Lecture 15](https://ds100.org/sp25/lecture/lec15/) if you're having trouble getting started!"
   ]
  },
  {
   "cell_type": "markdown",
   "metadata": {},
   "source": [
    "<br>\n",
    "\n",
    "<hr style=\"border: 1px solid #fdb515;\" />\n",
    "\n",
    "## 🫚 Question 6: Exploring RMSE\n",
    "\n",
    "In this question, we will explore what RMSE means in the context of predicting house prices. We will go through different ways of visualizing the performance your model and see how it relates to questions about property taxes. \n",
    "\n",
    "In the cell below, we create the `preds_df` `DataFrame` for use in this question.\n",
    "\n",
    "<br>\n",
    "\n",
    "---"
   ]
  },
  {
   "cell_type": "code",
   "execution_count": 40,
   "metadata": {},
   "outputs": [],
   "source": [
    "# Run the cell below; no further action is needed\n",
    "train_df = pd.read_csv('cook_county_train.csv')\n",
    "X, Y_true = feature_engine_final(train_df)\n",
    "model = lm.LinearRegression(fit_intercept=True)\n",
    "model.fit(X, Y_true)\n",
    "Y_pred = model.predict(X)"
   ]
  },
  {
   "cell_type": "code",
   "execution_count": 41,
   "metadata": {},
   "outputs": [
    {
     "data": {
      "text/html": [
       "<div>\n",
       "<style scoped>\n",
       "    .dataframe tbody tr th:only-of-type {\n",
       "        vertical-align: middle;\n",
       "    }\n",
       "\n",
       "    .dataframe tbody tr th {\n",
       "        vertical-align: top;\n",
       "    }\n",
       "\n",
       "    .dataframe thead th {\n",
       "        text-align: right;\n",
       "    }\n",
       "</style>\n",
       "<table border=\"1\" class=\"dataframe\">\n",
       "  <thead>\n",
       "    <tr style=\"text-align: right;\">\n",
       "      <th></th>\n",
       "      <th>True Log Sale Price</th>\n",
       "      <th>Predicted Log Sale Price</th>\n",
       "      <th>True Sale Price</th>\n",
       "      <th>Predicted Sale Price</th>\n",
       "    </tr>\n",
       "  </thead>\n",
       "  <tbody>\n",
       "    <tr>\n",
       "      <th>1</th>\n",
       "      <td>12.560244</td>\n",
       "      <td>12.037631</td>\n",
       "      <td>285000.0</td>\n",
       "      <td>168996.135705</td>\n",
       "    </tr>\n",
       "    <tr>\n",
       "      <th>2</th>\n",
       "      <td>9.998798</td>\n",
       "      <td>11.280327</td>\n",
       "      <td>22000.0</td>\n",
       "      <td>79247.137254</td>\n",
       "    </tr>\n",
       "    <tr>\n",
       "      <th>3</th>\n",
       "      <td>12.323856</td>\n",
       "      <td>11.884469</td>\n",
       "      <td>225000.0</td>\n",
       "      <td>144997.075511</td>\n",
       "    </tr>\n",
       "    <tr>\n",
       "      <th>4</th>\n",
       "      <td>10.025705</td>\n",
       "      <td>11.223237</td>\n",
       "      <td>22600.0</td>\n",
       "      <td>74849.639595</td>\n",
       "    </tr>\n",
       "    <tr>\n",
       "      <th>6</th>\n",
       "      <td>11.512925</td>\n",
       "      <td>11.732445</td>\n",
       "      <td>100000.0</td>\n",
       "      <td>124547.797886</td>\n",
       "    </tr>\n",
       "  </tbody>\n",
       "</table>\n",
       "</div>"
      ],
      "text/plain": [
       "   True Log Sale Price  Predicted Log Sale Price  True Sale Price  \\\n",
       "1            12.560244                 12.037631         285000.0   \n",
       "2             9.998798                 11.280327          22000.0   \n",
       "3            12.323856                 11.884469         225000.0   \n",
       "4            10.025705                 11.223237          22600.0   \n",
       "6            11.512925                 11.732445         100000.0   \n",
       "\n",
       "   Predicted Sale Price  \n",
       "1         168996.135705  \n",
       "2          79247.137254  \n",
       "3         144997.075511  \n",
       "4          74849.639595  \n",
       "6         124547.797886  "
      ]
     },
     "execution_count": 41,
     "metadata": {},
     "output_type": "execute_result"
    }
   ],
   "source": [
    "preds_df = pd.DataFrame({'True Log Sale Price' : Y_true, 'Predicted Log Sale Price' : Y_pred, \n",
    "                         'True Sale Price' : np.e**Y_true, 'Predicted Sale Price' : np.e**Y_pred})\n",
    "preds_df.head()"
   ]
  },
  {
   "cell_type": "markdown",
   "metadata": {
    "deletable": false,
    "editable": false
   },
   "source": [
    "<br>\n",
    "\n",
    "---\n",
    "### Question 6a"
   ]
  },
  {
   "cell_type": "markdown",
   "metadata": {
    "deletable": false,
    "editable": false
   },
   "source": [
    "Let's examine how our model performs on two halves of our data: `cheap_df`, which contains the rows of `preds_df` with prices below or equal to the median sale price, and `expensive_df`, which has rows of `preds_df` with true sale prices above the median. \n",
    "\n",
    "Take a moment to understand what is happening in the cell below, as it will also prove useful in `q6b`.  "
   ]
  },
  {
   "cell_type": "code",
   "execution_count": 42,
   "metadata": {
    "deletable": false,
    "editable": false
   },
   "outputs": [
    {
     "name": "stdout",
     "output_type": "stream",
     "text": [
      "\n",
      "The lower interval contains houses with true sale price $9897.0 to $219696.0\n",
      "The higher interval contains houses with true sale price $219696.0 to $8886111.0\n",
      "\n"
     ]
    }
   ],
   "source": [
    "# Run the cell below to obtain the two subsets of data; no further action is needed.\n",
    "min_Y_true, max_Y_true = np.round(np.min(Y_true), 1) , np.round(np.max(Y_true), 1)\n",
    "median_Y_true = np.round(np.median(Y_true), 1)\n",
    "cheap_df = preds_df[(preds_df['True Log Sale Price'] >= min_Y_true) & (preds_df['True Log Sale Price'] <= median_Y_true)]\n",
    "expensive_df = preds_df[(preds_df['True Log Sale Price'] > median_Y_true) & (preds_df['True Log Sale Price'] <= max_Y_true)]\n",
    "\n",
    "print(f'\\nThe lower interval contains houses with true sale price ${np.round(np.e**min_Y_true)} to ${np.round(np.e**median_Y_true)}')\n",
    "print(f'The higher interval contains houses with true sale price ${np.round(np.e**median_Y_true)} to ${np.round(np.e**max_Y_true)}\\n')"
   ]
  },
  {
   "cell_type": "markdown",
   "metadata": {
    "deletable": false,
    "editable": false
   },
   "source": [
    "**Compute the RMSE of your model's predictions of `Sale Price` on `cheap_df` and `expensive_df` separately**. Assign these RMSE values to `rmse_cheap` and `rmse_expensive`, respectively.\n",
    "\n",
    "Then, compute the proportion of houses in `cheap_df` and `expensive_df` for which the model overestimates `Sale Price`. Assign the proportions to `prop_overest_cheap` and `prop_overest_expensive`, respectively. \n",
    "\n",
    "- For example, if we were working with a dataset of 3 houses where the actual `Log Sale Price`s were [10, 11, 12] and the model predictions were [5, 15, 13], then the proportion of houses with overestimated values would be 2/3.\n",
    "\n",
    "**Note:** When calculating `prop_overest_cheap` and `prop_overest_expensive`, you could use either `Log Sale Price` or `Sale Price`. Take a second to think through why this metric is unchanged under a log transformation."
   ]
  },
  {
   "cell_type": "code",
   "execution_count": 43,
   "metadata": {
    "tags": [
     "otter_answer_cell"
    ]
   },
   "outputs": [
    {
     "name": "stdout",
     "output_type": "stream",
     "text": [
      "The RMSE for properties with log sale prices in the interval (9.2, 12.3) is 1.0\n",
      "The RMSE for properties with log sale prices in the interval (12.3, 16.0) is 1.0\n",
      "\n",
      "The percentage of overestimated values for properties with log sale prices in the interval (9.2, 12.3) is 59.34%\n",
      "The percentage of overestimated values for properties with log sale prices in the interval (12.3, 16.0) is 24.98%\n"
     ]
    }
   ],
   "source": [
    "rmse_cheap = rmse(cheap_df['Predicted Log Sale Price'], cheap_df['True Log Sale Price'])\n",
    "rmse_expensive = rmse(expensive_df['Predicted Log Sale Price'], expensive_df['True Log Sale Price'])\n",
    "\n",
    "prop_overest_cheap = np.sum(cheap_df['Predicted Log Sale Price']>cheap_df['True Log Sale Price'])/(cheap_df.shape[0])\n",
    "prop_overest_expensive = np.sum(expensive_df['Predicted Log Sale Price']>expensive_df['True Log Sale Price'])/(expensive_df.shape[0])\n",
    "\n",
    "print(f\"The RMSE for properties with log sale prices in the interval {(min_Y_true, median_Y_true)} is {np.round(rmse_cheap)}\")\n",
    "print(f\"The RMSE for properties with log sale prices in the interval {(median_Y_true, max_Y_true)} is {np.round(rmse_expensive)}\\n\")\n",
    "print(f\"The percentage of overestimated values for properties with log sale prices in the interval {(min_Y_true, median_Y_true)} is {np.round(100 * prop_overest_cheap, 2)}%\")\n",
    "print(f\"The percentage of overestimated values for properties with log sale prices in the interval {(median_Y_true, max_Y_true)} is {np.round(100 * prop_overest_expensive, 2)}%\")"
   ]
  },
  {
   "cell_type": "code",
   "execution_count": 44,
   "metadata": {
    "deletable": false,
    "editable": false
   },
   "outputs": [
    {
     "data": {
      "text/html": [
       "<p><strong><pre style='display: inline;'>q6a</pre></strong> passed! 🌟</p>"
      ],
      "text/plain": [
       "q6a results: All test cases passed!"
      ]
     },
     "execution_count": 44,
     "metadata": {},
     "output_type": "execute_result"
    }
   ],
   "source": [
    "grader.check(\"q6a\")"
   ]
  },
  {
   "cell_type": "markdown",
   "metadata": {
    "deletable": false,
    "editable": false
   },
   "source": [
    "<br>\n",
    "\n",
    "---\n",
    "### Question 6b\n",
    "\n",
    "The intervals we defined above are broad. Let's try and take a more fine-grained approach to understand how RMSE and proportion of houses overestimated vary across different intervals of `Log Sale Price`. \n",
    "\n",
    "The functions `rmse_interval` and `prop_overest_interval` compute the RMSE and proportion of overestimated home prices for any interval of home prices, respectively. In the cell below, complete the implementation of these two function.\n",
    "\n",
    "Pay close attention to the function descriptions, and feel free to reuse and modify the code you wrote in the previous part as needed.\n",
    "\n",
    "**Note:** The autograder tests provided for each of the functions are **not** comprehensive as the outputs of the function are highly dependent on your model. Make sure that the values you obtain are interpretable and that the plots in 6c look appropriate."
   ]
  },
  {
   "cell_type": "code",
   "execution_count": 45,
   "metadata": {
    "tags": [
     "otter_answer_cell"
    ]
   },
   "outputs": [],
   "source": [
    "def rmse_interval(df, start, end):\n",
    "    '''\n",
    "    Given a design matrix X and response vector Y, computes the RMSE for a subset of values \n",
    "    wherein the corresponding Log Sale Price lies in the interval [start, end].\n",
    "\n",
    "    Input: \n",
    "    df : pandas DataFrame with columns 'True Log Sale Price', \n",
    "        'Predicted Log Sale Price', 'True Sale Price', 'Predicted Sale Price'\n",
    "    start : A float specifying the start of the interval (inclusive)\n",
    "    end : A float specifying the end of the interval (inclusive)\n",
    "    '''\n",
    "\n",
    "    subset_df = df[(df['True Log Sale Price']>=start)&(df['True Log Sale Price']<=end)]\n",
    "\n",
    "    rmse_subset = rmse(subset_df['Predicted Log Sale Price'], subset_df['True Log Sale Price'])\n",
    "    return rmse_subset\n",
    "    \n",
    "def prop_overest_interval(df, start, end):\n",
    "    '''\n",
    "    Given a DataFrame df, computes prop_overest for a subset of values \n",
    "    wherein the corresponding Log Sale Price lies in the interval [start, end].\n",
    "\n",
    "    Input: \n",
    "    df : pandas DataFrame with columns 'True Log Sale Price', \n",
    "        'Predicted Log Sale Price', 'True Sale Price', 'Predicted Sale Price'\n",
    "    start : A float specifying the start of the interval (inclusive)\n",
    "    end : A float specifying the end of the interval (inclusive)\n",
    "    '''\n",
    "    \n",
    "    subset_df = df[(df['True Log Sale Price']>=start)&(df['True Log Sale Price']<=end)]\n",
    "\n",
    "    # DO NOT MODIFY THESE TWO LINES\n",
    "    if subset_df.shape[0] == 0:\n",
    "        return -1\n",
    "\n",
    "    prop_subset = np.sum(subset_df['Predicted Log Sale Price']>subset_df['True Log Sale Price'])/(subset_df.shape[0])\n",
    "    return prop_subset"
   ]
  },
  {
   "cell_type": "code",
   "execution_count": 46,
   "metadata": {
    "deletable": false,
    "editable": false
   },
   "outputs": [
    {
     "data": {
      "text/html": [
       "<p><strong><pre style='display: inline;'>q6b</pre></strong> passed! 🙌</p>"
      ],
      "text/plain": [
       "q6b results: All test cases passed!"
      ]
     },
     "execution_count": 46,
     "metadata": {},
     "output_type": "execute_result"
    }
   ],
   "source": [
    "grader.check(\"q6b\")"
   ]
  },
  {
   "cell_type": "markdown",
   "metadata": {
    "deletable": false,
    "editable": false
   },
   "source": [
    "<!-- BEGIN QUESTION -->\n",
    "\n",
    "<br>\n",
    "\n",
    "---\n",
    "### Question 6c"
   ]
  },
  {
   "cell_type": "markdown",
   "metadata": {
    "deletable": false,
    "editable": false
   },
   "source": [
    "Using the functions above, we can generate visualizations of how the RMSE and proportion of overestimated houses vary for different intervals:"
   ]
  },
  {
   "cell_type": "code",
   "execution_count": 47,
   "metadata": {
    "deletable": false,
    "editable": false
   },
   "outputs": [
    {
     "data": {
      "image/png": "[encoded data removed]",
      "text/plain": [
       "<Figure size 800x500 with 2 Axes>"
      ]
     },
     "metadata": {},
     "output_type": "display_data"
    }
   ],
   "source": [
    "# RMSE plot\n",
    "plt.figure(figsize = (8,5))\n",
    "plt.subplot(1, 2, 1) \n",
    "rmses = []\n",
    "for i in np.arange(8, 14, 0.5):\n",
    "    rmses.append(rmse_interval(preds_df, i, i + 0.5))\n",
    "plt.bar(x = np.arange(8.25, 14.25, 0.5), height = rmses, edgecolor = 'black', width = 0.5)\n",
    "plt.title('RMSE For Different Intervals\\n of Log Sale Price', fontsize = 10)\n",
    "plt.xlabel('Log Sale Price')\n",
    "plt.yticks(fontsize = 10)\n",
    "plt.xticks(fontsize = 10)\n",
    "plt.ylabel('RMSE')\n",
    "\n",
    "# Overestimation plot  \n",
    "plt.subplot(1, 2, 2)\n",
    "props = []\n",
    "for i in np.arange(8, 14, 0.5):\n",
    "    props.append(prop_overest_interval(preds_df, i, i + 0.5) * 100) \n",
    "plt.bar(x = np.arange(8.25, 14.25, 0.5), height = props, edgecolor = 'black', width = 0.5)\n",
    "plt.title('Percentage of House Values Overestimated \\n for different intervals of Log Sale Price', fontsize = 10)\n",
    "plt.xlabel('Log Sale Price')\n",
    "plt.yticks(fontsize = 10)\n",
    "plt.xticks(fontsize = 10)\n",
    "plt.ylabel('Percentage of House Values\\n that were Overestimated (%)')\n",
    "\n",
    "plt.tight_layout()\n",
    "plt.show()"
   ]
  },
  {
   "cell_type": "markdown",
   "metadata": {
    "deletable": false,
    "editable": false
   },
   "source": [
    "Which of the two plots above would be more useful in ascertaining whether the assessments tended to result in progressive or regressive taxation? Provide a brief explanation to support your choice of plot.\n",
    "\n",
    "Then, explain whether your chosen plot aligns more closely aligns with scenario C or scenario D from `q1b`: \n",
    "\n",
    "    C. An assessment process that systematically overvalues inexpensive properties and undervalues expensive properties.  \n",
    "    D. An assessment process that systematically undervalues inexpensive properties and overvalues expensive properties.\n",
    "\n",
    "*Your response should be approximately X to Y sentences.*"
   ]
  },
  {
   "cell_type": "markdown",
   "metadata": {
    "tags": [
     "otter_answer_cell"
    ]
   },
   "source": [
    "_The second plot/right plot (Percentage of House Values Overestimated) is more useful. RMSE measures the average difference between values predicted by a model and the actual values, but does not inform the direction of error; all we can gain from the first plot is that predictions for lower priced homes are more inaccurate than higher priced homes. My chosen plot aligns more closely with scenario C (regressive taxation) because, based on the right plot, we can tell exactly the proportion of homes in different income brackets that are overvalued._"
   ]
  },
  {
   "cell_type": "markdown",
   "metadata": {
    "deletable": false,
    "editable": false
   },
   "source": [
    "<!-- END QUESTION -->\n",
    "\n",
    "<!-- BEGIN QUESTION -->\n",
    "\n",
    "<br>\n",
    "\n",
    "<hr style=\"border: 1px solid #fdb515;\" />\n",
    "\n",
    "## 🕵️ Question 7: Evaluating the Model in Context\n",
    "\n",
    "<br>\n",
    "\n",
    "---\n",
    "## Question 7a\n",
    "\n",
    "When evaluating your model, we used RMSE. In the context of estimating the value of houses, what does the residual mean for an individual homeowner? How does a positive or negative residual affect them in terms of property taxes? Discuss the cases where the residual is positive and negative separately.\n",
    "\n",
    "*Your response should be approximate 2 to 4 sentences.*"
   ]
  },
  {
   "cell_type": "markdown",
   "metadata": {
    "tags": [
     "otter_answer_cell"
    ]
   },
   "source": [
    "_A residual in a house value estimation model is the difference between the actual sale price of a house and the model's predicted sale price. It represents the error the model made for that specific house. If property taxes are based on assessed value, and the assessed value is derived from the model's prediction, a positive residual means the homeowner likely paid less in property taxes than they would have if the house had been valued more accurately. Conversely, a negative residual means that the homeowner likely paid more in property taxes than they would have if the house had been valued more accurately._"
   ]
  },
  {
   "cell_type": "markdown",
   "metadata": {
    "deletable": false,
    "editable": false
   },
   "source": [
    "<!-- END QUESTION -->\n",
    "\n",
    "In the case of the Cook County Assessor’s Office, Chief Data Officer Rob Ross states that fair property tax rates are contingent on whether property values are assessed accurately —— that they’re valued at what they’re worth, relative to properties with similar characteristics. This implies that having a more accurate model results in fairer assessments. The goal of the property assessment process for the CCAO, then, is to be as accurate as possible. \n",
    "\n",
    "When the use of algorithms and statistical modeling has real-world consequences, we often refer to the idea of fairness as a measurement of how socially responsible our work is. Fairness is incredibly multifaceted: Is a fair model one that minimizes loss - one that generates accurate results? Is it one that utilizes \"unbiased\" data? Or is fairness a broader goal that takes historical contexts into account?\n",
    "\n",
    "These approaches to fairness are not mutually exclusive. If we look beyond error functions and technical measures of accuracy, we'd not only consider _individual_ cases of fairness but also what fairness —— and justice —— means to marginalized communities on a broader scale. We'd ask: What does it mean when homes in predominantly Black and Hispanic communities in Cook County are consistently overvalued, resulting in proportionally higher property taxes? When the white neighborhoods in Cook County are consistently undervalued, resulting in proportionally lower property taxes? \n",
    "\n",
    "Having \"accurate\" predictions doesn't necessarily address larger historical trends and inequities, and fairness in property assessments in taxes works beyond the CCAO's valuation model. Disassociating accurate predictions from a fair system is vital to approaching justice at multiple levels. Take Evanston, IL —— a suburb in Cook County —— as an example of housing equity beyond just improving a property valuation model: their City Council members [recently approved reparations for African American residents](https://www.usnews.com/news/health-news/articles/2021-03-23/chicago-suburb-approves-government-reparations-for-black-residents).\n"
   ]
  },
  {
   "cell_type": "markdown",
   "metadata": {
    "deletable": false,
    "editable": false
   },
   "source": [
    "<!-- BEGIN QUESTION -->\n",
    "\n",
    "<br>\n",
    "\n",
    "---\n",
    "\n",
    "## Question 7b\n",
    "\n",
    "Reflecting back on your exploration in Questions 6 and 7a, in your own words, what makes a model's predictions of property values for tax assessment purposes \"fair\"? \n",
    "\n",
    "This question is open-ended and part of your answer may depend on your specific model; we are looking for thoughtfulness and engagement with the material, not correctness. \n",
    "\n",
    "**Hint:** Some guiding questions to reflect on as you answer the question above: What is the relationship between RMSE, accuracy, and fairness as you have defined it? Is a model with a low RMSE necessarily accurate? Is a model with a low RMSE necessarily \"fair\"? Is there any difference between your answers to the previous two questions? And if so, why?\n",
    "\n",
    "*Your response should be approximate 1 to 2 paragraphs. Feel free to answer the questions in the hint to structure your answer.*"
   ]
  },
  {
   "cell_type": "markdown",
   "metadata": {
    "tags": [
     "otter_answer_cell"
    ]
   },
   "source": [
    "_For a property value prediction model to be considered \"fair\" in the context of tax assessment, it must minimize systematic biases that disproportionately affect certain groups of homeowners. While a low RMSE indicates that the model's predictions are generally close to the actual values, it doesn't guarantee fairness. A model can have a low RMSE overall but still consistently overvalue or undervalue properties in specific price ranges or neighborhoods, leading to regressive or progressive taxation. Fairness, therefore, requires not just accuracy in aggregate but also equitable distribution of errors across the population._\n",
    "\n",
    "_In contrast to RMSE, which measures the magnitude of errors, fairness requires examining the direction of errors. As shown in the previous questions, looking at the proportion of overestimations across different price intervals revealed biases that RMSE alone could not capture. A \"fair\" model, in my view, would exhibit a relatively uniform distribution of overestimations and underestimations across all price ranges. Ideally, it would also account for other factors, such as location and property characteristics, to ensure that similar properties are assessed similarly. Ultimately, fairness in property tax assessment models is about ensuring that the tax burden is distributed equitably, not just that the model's predictions are accurate on average._"
   ]
  },
  {
   "cell_type": "markdown",
   "metadata": {
    "deletable": false,
    "editable": false
   },
   "source": [
    "<!-- END QUESTION -->\n",
    "\n",
    "<br/>\n",
    "<hr style=\"border: 5px solid #003262;\" />\n",
    "<hr style=\"border: 1px solid #fdb515;\" />\n",
    "\n",
    "## Ayga and Beck congratulate you on finishing Project A2!\n",
    "\n",
    "<center><video controls src = \"aygabeck.mp4\" width = \"250\">animation</video></a></center>\n",
    "\n",
    "### Course Content Feedback\n",
    "\n",
    "If you have any feedback about this assignment or about any of our other weekly, weekly assignments, lectures, or discussions, please fill out the [Course Content Feedback Form](https://docs.google.com/forms/d/e/1FAIpQLSdpKA_E3b7PGqKSRqBUgSebb9bVFhRwRBv1ueisGsnKFkZkYg/viewform). Your input is valuable in helping us improve the quality and relevance of our content to better meet your needs and expectations!\n",
    "\n",
    "### Submission Instructions\n",
    "\n",
    "Below, you will see a cell. Running this cell will automatically generate a zip file with your autograded answers. Once you submit this file to the Project A2 Coding assignment on Gradescope, Gradescope will automatically submit a PDF file with your written answers to the Project A2 Written assignment. If you run into any issues when running this cell, feel free to check this [section](https://ds100.org/debugging-guide/autograder_gradescope/autograder_gradescope.html#why-does-grader.exportrun_teststrue-fail-if-all-previous-tests-passed) in the Data 100 Debugging Guide.\n",
    "\n",
    "If there are issues with automatically generating the PDF, you can try downloading the notebook as a PDF by clicking on `File -> Save and Export Notebook As... -> PDF`. If that doesn't work either, you can manually take screenshots of your answers to the manually graded questions and submit those. \n",
    "\n",
    "**Please make sure you submit the following to the right assignments:**\n",
    "\n",
    "* **Project A2 Coding:** Submit the zip file generated by using the `grader.export()` cell provided below.\n",
    "* **Project A2 Written:** Gradescope will automatically submit the PDF from the zip file submitted earlier. You do not need to submit anything to this assignment yourself, but *please check that the submission went through properly and that all plots rendered correctly*.\n",
    "* **Project A2 Test Set Predictions:** Submit the CSV file generated in `q5f`.\n",
    "\n",
    "**You are responsible for ensuring your submission follows our requirements and that everything was generated and submitted correctly. We will not be granting regrade requests nor extensions to submissions that don't follow instructions.** If you encounter any difficulties with submission, please don't hesitate to reach out to staff prior to the deadline. "
   ]
  },
  {
   "cell_type": "markdown",
   "metadata": {
    "deletable": false,
    "editable": false
   },
   "source": [
    "## Submission\n",
    "\n",
    "Make sure you have run all cells in your notebook in order before running the cell below, so that all images/graphs appear in the output. The cell below will generate a zip file for you to submit. **Please save before exporting!**"
   ]
  },
  {
   "cell_type": "code",
   "execution_count": null,
   "metadata": {
    "deletable": false,
    "editable": false
   },
   "outputs": [],
   "source": [
    "# Save your notebook first, then run this cell to export your submission.\n",
    "grader.export(run_tests=True)"
   ]
  },
  {
   "cell_type": "markdown",
   "metadata": {},
   "source": [
    " "
   ]
  }
 ],
 "metadata": {
  "celltoolbar": "Create Assignment",
  "kernelspec": {
   "display_name": "Python 3 (ipykernel)",
   "language": "python",
   "name": "python3"
  },
  "language_info": {
   "codemirror_mode": {
    "name": "ipython",
    "version": 3
   },
   "file_extension": ".py",
   "mimetype": "text/x-python",
   "name": "python",
   "nbconvert_exporter": "python",
   "pygments_lexer": "ipython3",
   "version": "3.11.11"
  },
  "otter": {
   "OK_FORMAT": true,
   "require_no_pdf_confirmation": true,
   "tests": {
    "q1c": {
     "name": "q1c",
     "points": 1,
     "suites": [
      {
       "cases": [
        {
         "code": ">>> q1c.lower() in ['a', 'b', 'c']\nTrue",
         "hidden": false,
         "locked": false
        }
       ],
       "scored": true,
       "setup": "",
       "teardown": "",
       "type": "doctest"
      }
     ]
    },
    "q2": {
     "name": "q2",
     "points": 2,
     "suites": [
      {
       "cases": [
        {
         "code": ">>> bool(train.shape == (163833, 62))\nTrue",
         "hidden": false,
         "locked": false
        },
        {
         "code": ">>> bool(validation.shape == (40959, 62))\nTrue",
         "hidden": false,
         "locked": false
        },
        {
         "code": ">>> bool(np.isclose(train['Sale Price'].mean(), 244939.22668204817, atol=0.1))\nTrue",
         "hidden": false,
         "locked": false
        },
        {
         "code": ">>> bool(np.allclose(validation.index[-5:], [153946, 117415, 9448, 188605, 3223]))\nTrue",
         "hidden": false,
         "locked": false
        },
        {
         "code": ">>> bool(np.isclose(validation['Sale Price'].mean(), 246066.1821089382, atol=0.1))\nTrue",
         "hidden": false,
         "locked": false
        }
       ],
       "scored": true,
       "setup": "",
       "teardown": "",
       "type": "doctest"
      }
     ]
    },
    "q3a": {
     "name": "q3a",
     "points": 2,
     "suites": [
      {
       "cases": [
        {
         "code": ">>> (q3a in ['>=', '=', '<=']) == True\nTrue",
         "hidden": false,
         "locked": false
        },
        {
         "code": ">>> bool(q3a == '<=')\nTrue",
         "hidden": false,
         "locked": false
        }
       ],
       "scored": true,
       "setup": "",
       "teardown": "",
       "type": "doctest"
      }
     ]
    },
    "q3b": {
     "name": "q3b",
     "points": 3,
     "suites": [
      {
       "cases": [
        {
         "code": ">>> isinstance(X_train_m1, pd.core.frame.DataFrame) and isinstance(Y_train_m1, pd.core.series.Series) and isinstance(X_valid_m1, pd.core.frame.DataFrame) and isinstance(Y_valid_m1, pd.core.series.Series) and isinstance(X_train_m2, pd.core.frame.DataFrame) and isinstance(Y_train_m2, pd.core.series.Series) and isinstance(X_valid_m2, pd.core.frame.DataFrame) and isinstance(Y_valid_m2, pd.core.series.Series)\nTrue",
         "hidden": false,
         "locked": false
        },
        {
         "code": ">>> assert len(m2_pipelines) == 5\n>>> assert log_transform in set([p[0] for p in m2_pipelines])\n",
         "hidden": false,
         "locked": false
        }
       ],
       "scored": true,
       "setup": "",
       "teardown": "",
       "type": "doctest"
      }
     ]
    },
    "q3c": {
     "name": "q3c",
     "points": 2,
     "suites": [
      {
       "cases": [
        {
         "code": ">>> bool(np.isclose(Y_fitted_m1.max(), 18.37391180106831, atol=0.0001) == True)\nTrue",
         "hidden": false,
         "locked": false
        },
        {
         "code": ">>> bool(np.isclose(Y_fitted_m2.max(), 16.38031927932594, atol=0.0001) == True)\nTrue",
         "hidden": false,
         "locked": false
        },
        {
         "code": ">>> bool(np.isclose(Y_predicted_m1.max(), 37.70679143176044, atol=0.0001) == True)\nTrue",
         "hidden": false,
         "locked": false
        },
        {
         "code": ">>> bool(np.isclose(Y_predicted_m2.max(), 20.856723206185926, atol=0.0001) == True)\nTrue",
         "hidden": false,
         "locked": false
        }
       ],
       "scored": true,
       "setup": "",
       "teardown": "",
       "type": "doctest"
      }
     ]
    },
    "q4b": {
     "name": "q4b",
     "points": 1,
     "suites": [
      {
       "cases": [
        {
         "code": ">>> bool(q4b.lower() in ['regressive', 'fair', 'progressive'])\nTrue",
         "hidden": false,
         "locked": false
        }
       ],
       "scored": true,
       "setup": "",
       "teardown": "",
       "type": "doctest"
      }
     ]
    },
    "q4ci": {
     "name": "q4ci",
     "points": 1,
     "suites": [
      {
       "cases": [
        {
         "code": ">>> len(compute_CV_error(X_train_m1, Y_train_m1, folds=4)) == 4\nTrue",
         "hidden": false,
         "locked": false
        },
        {
         "code": ">>> len(compute_CV_error(X_train_m1, Y_train_m1, folds=6)) == 6\nTrue",
         "hidden": false,
         "locked": false
        }
       ],
       "scored": true,
       "setup": "",
       "teardown": "",
       "type": "doctest"
      }
     ]
    },
    "q4cii": {
     "name": "q4cii",
     "points": 1,
     "suites": [
      {
       "cases": [
        {
         "code": ">>> np.random.seed(1337)\n>>> bool(np.isclose(sum(cv_m1), 3.3746790542844085, atol=0.0001))\nTrue",
         "hidden": false,
         "locked": false
        },
        {
         "code": ">>> np.random.seed(1337)\n>>> bool(np.isclose(sum(cv_m2), 3.190860696081888, atol=0.0001))\nTrue",
         "hidden": false,
         "locked": false
        }
       ],
       "scored": true,
       "setup": "",
       "teardown": "",
       "type": "doctest"
      }
     ]
    },
    "q5d": {
     "name": "q5d",
     "points": 3,
     "suites": [
      {
       "cases": [
        {
         "code": ">>> bool(check_rmse_threshold(200000))\nTrue",
         "hidden": false,
         "locked": false
        },
        {
         "code": ">>> bool(check_rmse_threshold(240000))\nTrue",
         "hidden": false,
         "locked": false
        },
        {
         "code": ">>> bool(check_rmse_threshold(280000))\nTrue",
         "hidden": false,
         "locked": false
        },
        {
         "code": ">>> check_rmse_threshold.signature == (feature_engine_final, 'cook_county_train.csv', None)\nTrue",
         "hidden": false,
         "locked": false
        }
       ],
       "scored": true,
       "setup": "",
       "teardown": "",
       "type": "doctest"
      }
     ]
    },
    "q6a": {
     "name": "q6a",
     "points": 1,
     "suites": [
      {
       "cases": [
        {
         "code": ">>> bool(rmse_cheap >= 0)\nTrue",
         "hidden": false,
         "locked": false
        },
        {
         "code": ">>> bool(rmse_expensive >= 0)\nTrue",
         "hidden": false,
         "locked": false
        },
        {
         "code": ">>> bool(0 <= prop_overest_cheap <= 1)\nTrue",
         "hidden": false,
         "locked": false
        },
        {
         "code": ">>> bool(0 <= prop_overest_expensive <= 1)\nTrue",
         "hidden": false,
         "locked": false
        }
       ],
       "scored": true,
       "setup": "",
       "teardown": "",
       "type": "doctest"
      }
     ]
    },
    "q6b": {
     "name": "q6b",
     "points": 2,
     "suites": [
      {
       "cases": [
        {
         "code": ">>> bool(prop_overest_interval(preds_df, 10, 14) >= 0 and prop_overest_interval(preds_df, 10, 14) <= 1)\nTrue",
         "hidden": false,
         "locked": false
        },
        {
         "code": ">>> bool(rmse_interval(preds_df, 10, 14) < 1000000000.0 and rmse_interval(preds_df, 10, 14) > 0)\nTrue",
         "hidden": false,
         "locked": false
        }
       ],
       "scored": true,
       "setup": "",
       "teardown": "",
       "type": "doctest"
      }
     ]
    },
    "qsurvey": {
     "name": "qsurvey",
     "points": 1,
     "suites": [
      {
       "cases": [
        {
         "code": ">>> assert isinstance(qsurvey, str)\n>>> assert ' ' not in qsurvey\n>>> assert len(qsurvey) == 11\n>>> assert qsurvey[0] == 'G' and qsurvey[-1] == 's'\n",
         "hidden": false,
         "locked": false,
         "points": 0
        }
       ],
       "scored": true,
       "setup": "",
       "teardown": "",
       "type": "doctest"
      }
     ]
    }
   }
  }
 },
 "nbformat": 4,
 "nbformat_minor": 4
}
